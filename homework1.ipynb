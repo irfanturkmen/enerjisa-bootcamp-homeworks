{
 "cells": [
  {
   "cell_type": "code",
   "execution_count": 1,
   "source": [
    "import pandas as pd\r\n",
    "import numpy as np\r\n",
    "import seaborn as sns\r\n",
    "import matplotlib.pyplot as plt\r\n",
    "from scipy import stats\r\n",
    "from math import sqrt"
   ],
   "outputs": [],
   "metadata": {}
  },
  {
   "cell_type": "markdown",
   "source": [
    "# <b> Ödevler : </b> "
   ],
   "metadata": {}
  },
  {
   "cell_type": "markdown",
   "source": [
    "# <b> Soru 1 </b>\r\n",
    "### <b> Pandas kütüphanesiyle bir DataFrame oluşturup ve içine Levels of Measurements'ları nominal, ordinal, interval ve ratio olan kolonlar ekleyelim. </b>"
   ],
   "metadata": {}
  },
  {
   "cell_type": "code",
   "execution_count": 2,
   "source": [
    "#Dataframe oluştururken kullanılacak olan verilerin tanımlanması\r\n",
    "nominal = ['Sedan', 'Hatchback', 'Station Wagon', 'Cabrio', 'Pick Up', 'SUV']\r\n",
    "ordinal = ['A', 'B', 'C', 'D', 'E', 'F']\r\n",
    "interval = np.arange(1990, 2022)\r\n",
    "ratio = np.arange(180, 321)\r\n",
    "\r\n",
    "#Dataframe'e veri aktarırken kullanılacak olan listelerin tanımlanması\r\n",
    "cars_nominal = [] \r\n",
    "cars_ordinal = [] \r\n",
    "cars_interval = [] \r\n",
    "cars_ratio = [] \r\n",
    "\r\n",
    "number_of_data = int(input('Oluşturmak istediğiniz veri sayısı :'))\r\n",
    "\r\n",
    "#Kullanıcının istediği veri sayısı kadar kez çalışan bu döngüde, \r\n",
    "# her bir tanımlanan verilerin içerisinden rastgele birisi seçilerek \r\n",
    "# daha sonra dataframe'e aktarılması için tanımlanmış olan listelere ekleniyor\r\n",
    "for _ in range(number_of_data):\r\n",
    "    cars_nominal.append(nominal[np.random.randint(len(nominal))])\r\n",
    "    cars_ordinal.append(ordinal[np.random.randint(len(ordinal))])\r\n",
    "    cars_interval.append(interval[np.random.randint(len(interval))])\r\n",
    "    cars_ratio.append(ratio[np.random.randint(len(ratio))])\r\n",
    "\r\n",
    "\r\n",
    "data = {'Araç Tipi': cars_nominal, 'Araç Sınıfı': cars_ordinal, 'Yıl': cars_interval, 'Maksimum Hız (km/h)': cars_ratio}\r\n",
    "cars_data = pd.DataFrame(data)\r\n",
    "cars_data.head(20)"
   ],
   "outputs": [
    {
     "output_type": "execute_result",
     "data": {
      "text/html": [
       "<div>\n",
       "<style scoped>\n",
       "    .dataframe tbody tr th:only-of-type {\n",
       "        vertical-align: middle;\n",
       "    }\n",
       "\n",
       "    .dataframe tbody tr th {\n",
       "        vertical-align: top;\n",
       "    }\n",
       "\n",
       "    .dataframe thead th {\n",
       "        text-align: right;\n",
       "    }\n",
       "</style>\n",
       "<table border=\"1\" class=\"dataframe\">\n",
       "  <thead>\n",
       "    <tr style=\"text-align: right;\">\n",
       "      <th></th>\n",
       "      <th>Araç Tipi</th>\n",
       "      <th>Araç Sınıfı</th>\n",
       "      <th>Yıl</th>\n",
       "      <th>Maksimum Hız (km/h)</th>\n",
       "    </tr>\n",
       "  </thead>\n",
       "  <tbody>\n",
       "    <tr>\n",
       "      <th>0</th>\n",
       "      <td>Pick Up</td>\n",
       "      <td>F</td>\n",
       "      <td>1992</td>\n",
       "      <td>314</td>\n",
       "    </tr>\n",
       "    <tr>\n",
       "      <th>1</th>\n",
       "      <td>Sedan</td>\n",
       "      <td>B</td>\n",
       "      <td>1991</td>\n",
       "      <td>234</td>\n",
       "    </tr>\n",
       "    <tr>\n",
       "      <th>2</th>\n",
       "      <td>Station Wagon</td>\n",
       "      <td>E</td>\n",
       "      <td>1994</td>\n",
       "      <td>225</td>\n",
       "    </tr>\n",
       "    <tr>\n",
       "      <th>3</th>\n",
       "      <td>Cabrio</td>\n",
       "      <td>A</td>\n",
       "      <td>2001</td>\n",
       "      <td>278</td>\n",
       "    </tr>\n",
       "    <tr>\n",
       "      <th>4</th>\n",
       "      <td>Sedan</td>\n",
       "      <td>C</td>\n",
       "      <td>2015</td>\n",
       "      <td>306</td>\n",
       "    </tr>\n",
       "    <tr>\n",
       "      <th>5</th>\n",
       "      <td>Cabrio</td>\n",
       "      <td>A</td>\n",
       "      <td>1996</td>\n",
       "      <td>243</td>\n",
       "    </tr>\n",
       "    <tr>\n",
       "      <th>6</th>\n",
       "      <td>Hatchback</td>\n",
       "      <td>F</td>\n",
       "      <td>2014</td>\n",
       "      <td>316</td>\n",
       "    </tr>\n",
       "    <tr>\n",
       "      <th>7</th>\n",
       "      <td>Hatchback</td>\n",
       "      <td>B</td>\n",
       "      <td>2005</td>\n",
       "      <td>316</td>\n",
       "    </tr>\n",
       "    <tr>\n",
       "      <th>8</th>\n",
       "      <td>SUV</td>\n",
       "      <td>C</td>\n",
       "      <td>2002</td>\n",
       "      <td>183</td>\n",
       "    </tr>\n",
       "    <tr>\n",
       "      <th>9</th>\n",
       "      <td>Hatchback</td>\n",
       "      <td>C</td>\n",
       "      <td>2002</td>\n",
       "      <td>264</td>\n",
       "    </tr>\n",
       "    <tr>\n",
       "      <th>10</th>\n",
       "      <td>Cabrio</td>\n",
       "      <td>A</td>\n",
       "      <td>2020</td>\n",
       "      <td>230</td>\n",
       "    </tr>\n",
       "    <tr>\n",
       "      <th>11</th>\n",
       "      <td>Station Wagon</td>\n",
       "      <td>C</td>\n",
       "      <td>2003</td>\n",
       "      <td>237</td>\n",
       "    </tr>\n",
       "    <tr>\n",
       "      <th>12</th>\n",
       "      <td>Hatchback</td>\n",
       "      <td>F</td>\n",
       "      <td>2011</td>\n",
       "      <td>278</td>\n",
       "    </tr>\n",
       "    <tr>\n",
       "      <th>13</th>\n",
       "      <td>Cabrio</td>\n",
       "      <td>A</td>\n",
       "      <td>2007</td>\n",
       "      <td>241</td>\n",
       "    </tr>\n",
       "    <tr>\n",
       "      <th>14</th>\n",
       "      <td>Pick Up</td>\n",
       "      <td>D</td>\n",
       "      <td>2021</td>\n",
       "      <td>296</td>\n",
       "    </tr>\n",
       "    <tr>\n",
       "      <th>15</th>\n",
       "      <td>Hatchback</td>\n",
       "      <td>F</td>\n",
       "      <td>2021</td>\n",
       "      <td>306</td>\n",
       "    </tr>\n",
       "    <tr>\n",
       "      <th>16</th>\n",
       "      <td>Sedan</td>\n",
       "      <td>A</td>\n",
       "      <td>2007</td>\n",
       "      <td>293</td>\n",
       "    </tr>\n",
       "    <tr>\n",
       "      <th>17</th>\n",
       "      <td>Station Wagon</td>\n",
       "      <td>F</td>\n",
       "      <td>2001</td>\n",
       "      <td>182</td>\n",
       "    </tr>\n",
       "    <tr>\n",
       "      <th>18</th>\n",
       "      <td>SUV</td>\n",
       "      <td>B</td>\n",
       "      <td>2005</td>\n",
       "      <td>232</td>\n",
       "    </tr>\n",
       "    <tr>\n",
       "      <th>19</th>\n",
       "      <td>Pick Up</td>\n",
       "      <td>E</td>\n",
       "      <td>2011</td>\n",
       "      <td>272</td>\n",
       "    </tr>\n",
       "  </tbody>\n",
       "</table>\n",
       "</div>"
      ],
      "text/plain": [
       "        Araç Tipi Araç Sınıfı   Yıl  Maksimum Hız (km/h)\n",
       "0         Pick Up           F  1992                  314\n",
       "1           Sedan           B  1991                  234\n",
       "2   Station Wagon           E  1994                  225\n",
       "3          Cabrio           A  2001                  278\n",
       "4           Sedan           C  2015                  306\n",
       "5          Cabrio           A  1996                  243\n",
       "6       Hatchback           F  2014                  316\n",
       "7       Hatchback           B  2005                  316\n",
       "8             SUV           C  2002                  183\n",
       "9       Hatchback           C  2002                  264\n",
       "10         Cabrio           A  2020                  230\n",
       "11  Station Wagon           C  2003                  237\n",
       "12      Hatchback           F  2011                  278\n",
       "13         Cabrio           A  2007                  241\n",
       "14        Pick Up           D  2021                  296\n",
       "15      Hatchback           F  2021                  306\n",
       "16          Sedan           A  2007                  293\n",
       "17  Station Wagon           F  2001                  182\n",
       "18            SUV           B  2005                  232\n",
       "19        Pick Up           E  2011                  272"
      ]
     },
     "metadata": {},
     "execution_count": 2
    }
   ],
   "metadata": {}
  },
  {
   "cell_type": "markdown",
   "source": [
    "Nominal veri olarak Araç Tipi, Ordinal veri olarak Araç Sınıfı, Interval veri olarak model yılı ve Ratio veri olarak Maksimum Hız verilerini içeren, daha önce hazırlanmış olan verilerin içerisinden rastgele şekilde, istenilen sayıda veri içeren bir dataframe oluşturan kod bloğu.  "
   ],
   "metadata": {}
  },
  {
   "cell_type": "markdown",
   "source": [
    "# <b> Soru 2 </b>\r\n",
    "### <b> Ekli data üzerindeki aşağıda yer alan kolonların count, mean, std, min, 25%, 50%, 75%, max değerlerini ve IQR metoduyla outlier kalan veri sayısını çıkartıp, bu değerleri sözel ve karşılaştırmalı olarak yorumlayalım. </b>\r\n",
    " * Kolonlar : radius_mean, area_mean, compactness_mean"
   ],
   "metadata": {}
  },
  {
   "cell_type": "markdown",
   "source": [
    "Öncelikle, veri setinden bizden istenilen kolonları çekip o verilerden yeni bir dataframe oluşturuyoruz. Çünkü, soruda ki bütün çalışmaların bu kolonlar üzerinden yürütülmesi istenmiştir"
   ],
   "metadata": {}
  },
  {
   "cell_type": "code",
   "execution_count": 3,
   "source": [
    "#Sadece kullanılacak olan kolonların veri setinden seçilerek, oluşturulan dataframe'e aktarılması\r\n",
    "data_csv = pd.read_csv('data.csv', usecols=['radius_mean', 'area_mean', 'compactness_mean'])\r\n",
    "df = pd.DataFrame(data_csv)\r\n",
    "df.head(10)"
   ],
   "outputs": [
    {
     "output_type": "execute_result",
     "data": {
      "text/html": [
       "<div>\n",
       "<style scoped>\n",
       "    .dataframe tbody tr th:only-of-type {\n",
       "        vertical-align: middle;\n",
       "    }\n",
       "\n",
       "    .dataframe tbody tr th {\n",
       "        vertical-align: top;\n",
       "    }\n",
       "\n",
       "    .dataframe thead th {\n",
       "        text-align: right;\n",
       "    }\n",
       "</style>\n",
       "<table border=\"1\" class=\"dataframe\">\n",
       "  <thead>\n",
       "    <tr style=\"text-align: right;\">\n",
       "      <th></th>\n",
       "      <th>radius_mean</th>\n",
       "      <th>area_mean</th>\n",
       "      <th>compactness_mean</th>\n",
       "    </tr>\n",
       "  </thead>\n",
       "  <tbody>\n",
       "    <tr>\n",
       "      <th>0</th>\n",
       "      <td>17.99</td>\n",
       "      <td>1001.0</td>\n",
       "      <td>0.27760</td>\n",
       "    </tr>\n",
       "    <tr>\n",
       "      <th>1</th>\n",
       "      <td>20.57</td>\n",
       "      <td>1326.0</td>\n",
       "      <td>0.07864</td>\n",
       "    </tr>\n",
       "    <tr>\n",
       "      <th>2</th>\n",
       "      <td>19.69</td>\n",
       "      <td>1203.0</td>\n",
       "      <td>0.15990</td>\n",
       "    </tr>\n",
       "    <tr>\n",
       "      <th>3</th>\n",
       "      <td>11.42</td>\n",
       "      <td>386.1</td>\n",
       "      <td>0.28390</td>\n",
       "    </tr>\n",
       "    <tr>\n",
       "      <th>4</th>\n",
       "      <td>20.29</td>\n",
       "      <td>1297.0</td>\n",
       "      <td>0.13280</td>\n",
       "    </tr>\n",
       "    <tr>\n",
       "      <th>5</th>\n",
       "      <td>12.45</td>\n",
       "      <td>477.1</td>\n",
       "      <td>0.17000</td>\n",
       "    </tr>\n",
       "    <tr>\n",
       "      <th>6</th>\n",
       "      <td>18.25</td>\n",
       "      <td>1040.0</td>\n",
       "      <td>0.10900</td>\n",
       "    </tr>\n",
       "    <tr>\n",
       "      <th>7</th>\n",
       "      <td>13.71</td>\n",
       "      <td>577.9</td>\n",
       "      <td>0.16450</td>\n",
       "    </tr>\n",
       "    <tr>\n",
       "      <th>8</th>\n",
       "      <td>13.00</td>\n",
       "      <td>519.8</td>\n",
       "      <td>0.19320</td>\n",
       "    </tr>\n",
       "    <tr>\n",
       "      <th>9</th>\n",
       "      <td>12.46</td>\n",
       "      <td>475.9</td>\n",
       "      <td>0.23960</td>\n",
       "    </tr>\n",
       "  </tbody>\n",
       "</table>\n",
       "</div>"
      ],
      "text/plain": [
       "   radius_mean  area_mean  compactness_mean\n",
       "0        17.99     1001.0           0.27760\n",
       "1        20.57     1326.0           0.07864\n",
       "2        19.69     1203.0           0.15990\n",
       "3        11.42      386.1           0.28390\n",
       "4        20.29     1297.0           0.13280\n",
       "5        12.45      477.1           0.17000\n",
       "6        18.25     1040.0           0.10900\n",
       "7        13.71      577.9           0.16450\n",
       "8        13.00      519.8           0.19320\n",
       "9        12.46      475.9           0.23960"
      ]
     },
     "metadata": {},
     "execution_count": 3
    }
   ],
   "metadata": {}
  },
  {
   "cell_type": "code",
   "execution_count": 4,
   "source": [
    "df.describe()"
   ],
   "outputs": [
    {
     "output_type": "execute_result",
     "data": {
      "text/html": [
       "<div>\n",
       "<style scoped>\n",
       "    .dataframe tbody tr th:only-of-type {\n",
       "        vertical-align: middle;\n",
       "    }\n",
       "\n",
       "    .dataframe tbody tr th {\n",
       "        vertical-align: top;\n",
       "    }\n",
       "\n",
       "    .dataframe thead th {\n",
       "        text-align: right;\n",
       "    }\n",
       "</style>\n",
       "<table border=\"1\" class=\"dataframe\">\n",
       "  <thead>\n",
       "    <tr style=\"text-align: right;\">\n",
       "      <th></th>\n",
       "      <th>radius_mean</th>\n",
       "      <th>area_mean</th>\n",
       "      <th>compactness_mean</th>\n",
       "    </tr>\n",
       "  </thead>\n",
       "  <tbody>\n",
       "    <tr>\n",
       "      <th>count</th>\n",
       "      <td>569.000000</td>\n",
       "      <td>569.000000</td>\n",
       "      <td>569.000000</td>\n",
       "    </tr>\n",
       "    <tr>\n",
       "      <th>mean</th>\n",
       "      <td>14.127292</td>\n",
       "      <td>654.889104</td>\n",
       "      <td>0.104341</td>\n",
       "    </tr>\n",
       "    <tr>\n",
       "      <th>std</th>\n",
       "      <td>3.524049</td>\n",
       "      <td>351.914129</td>\n",
       "      <td>0.052813</td>\n",
       "    </tr>\n",
       "    <tr>\n",
       "      <th>min</th>\n",
       "      <td>6.981000</td>\n",
       "      <td>143.500000</td>\n",
       "      <td>0.019380</td>\n",
       "    </tr>\n",
       "    <tr>\n",
       "      <th>25%</th>\n",
       "      <td>11.700000</td>\n",
       "      <td>420.300000</td>\n",
       "      <td>0.064920</td>\n",
       "    </tr>\n",
       "    <tr>\n",
       "      <th>50%</th>\n",
       "      <td>13.370000</td>\n",
       "      <td>551.100000</td>\n",
       "      <td>0.092630</td>\n",
       "    </tr>\n",
       "    <tr>\n",
       "      <th>75%</th>\n",
       "      <td>15.780000</td>\n",
       "      <td>782.700000</td>\n",
       "      <td>0.130400</td>\n",
       "    </tr>\n",
       "    <tr>\n",
       "      <th>max</th>\n",
       "      <td>28.110000</td>\n",
       "      <td>2501.000000</td>\n",
       "      <td>0.345400</td>\n",
       "    </tr>\n",
       "  </tbody>\n",
       "</table>\n",
       "</div>"
      ],
      "text/plain": [
       "       radius_mean    area_mean  compactness_mean\n",
       "count   569.000000   569.000000        569.000000\n",
       "mean     14.127292   654.889104          0.104341\n",
       "std       3.524049   351.914129          0.052813\n",
       "min       6.981000   143.500000          0.019380\n",
       "25%      11.700000   420.300000          0.064920\n",
       "50%      13.370000   551.100000          0.092630\n",
       "75%      15.780000   782.700000          0.130400\n",
       "max      28.110000  2501.000000          0.345400"
      ]
     },
     "metadata": {},
     "execution_count": 4
    }
   ],
   "metadata": {}
  },
  {
   "cell_type": "markdown",
   "source": [
    "Pandas'ın descripe fonksiyonu ile elimizdeki her bir kolona ait ortalama, standart sapma, medyan, lower ve upper range gibi verileri görüntüleyebiliyoruz. Bu görüntülediğimiz verileri yorumlamak gerekirse;\r\n",
    "* <b>radius_mean</b> kolonunun ortalama değeri yaklaşık 14.127 iken medyan değeri 13.37'dir. Ortalama değeri ile ortanca değeri arasında çok fazla bir fark bulunmamakta ve standart sapma küçük bir değere sahiptir, dolayısıyla ilk bakış olarak verilerimizin normal dağılıma benzer bir dağılım sergilediğini söyleyebiliriz.\r\n",
    "* <b>area_mean</b> kolonunun ortalama değeri yaklaşık olarak 654.889 iken medyan değeri 551.1'dir. Ortalama değer ile ortanca değer arasında ciddi bir sayısal fark vardır ve standart sapması da yüksektir. Dolayısıyla ilk bakışta normal dağılımdan uzak, outlier değerleri fazla denilebilir.\r\n",
    "* <b>compactness_mean</b> kolonunun ortalama değeri yaklaşık 0.104 iken medyan değeri yaklaşık 0.092'dir. Normal dağılım sergilemediğini şimdiden söyleyebiliriz fakat verilerimiz normal dağılıma yakın mı? Max - min, ortalama gibi değerleri inceledğimizde aralarında ki farkın yüksek olduğu ve normal yaklaşımdan uzak, outlier veri sayısının fazla olduğunu söyleyebiliriz.\r\n"
   ],
   "metadata": {}
  },
  {
   "cell_type": "code",
   "execution_count": 5,
   "source": [
    "def removeOutliers(data, column):\r\n",
    "    Q1 = np.quantile(data[column], 0.25)\r\n",
    "    Q3 = np.quantile(data[column], 0.75)\r\n",
    "    IQR = Q3 - Q1\r\n",
    "\r\n",
    "    global filtered_data\r\n",
    "    global outlier_list\r\n",
    "\r\n",
    "    lower_range, upper_range = Q1 - 1.5 * IQR, Q3 + 1.5 * IQR\r\n",
    "    print('Bu aralık dışında kalan değerler' ,column, 'için outlier değerlerdir : (', lower_range, ',', upper_range, ')')\r\n",
    "    \r\n",
    "    #lower ve upper range değerlerinin içinde kalan, kullanılacak olan verilerin listeye aktarılması\r\n",
    "    outlier_list = [x for x in data[column] if ((x > lower_range) & (x < upper_range))]\r\n",
    "    print(column, 'kolonu için outlier veri sayısı :', len(data) - len(outlier_list))\r\n",
    "    print('-'*100)\r\n",
    "    #Outlier verilerden temizlediğimiz listenin (outlier_list) içerisinde yer alan elemanlara göre filtreli liste oluşturulması\r\n",
    "    filtered_data = data.loc[data[column].isin(outlier_list)]\r\n",
    "\r\n",
    "for i in df.columns:\r\n",
    "    removeOutliers(df, i)\r\n",
    "\r\n",
    "print('\\nVeri setimizin ilk hali ile istatistik sonuçları:\\n', df.describe())\r\n",
    "print('\\n','-'*100)\r\n",
    "print('\\nOutliers değerlerin filtrelenmesi sonucu istatistik sonuçları :\\n', filtered_data.describe())"
   ],
   "outputs": [
    {
     "output_type": "stream",
     "name": "stdout",
     "text": [
      "Bu aralık dışında kalan değerler radius_mean için outlier değerlerdir : ( 5.579999999999999 , 21.9 )\n",
      "radius_mean kolonu için outlier veri sayısı : 14\n",
      "----------------------------------------------------------------------------------------------------\n",
      "Bu aralık dışında kalan değerler area_mean için outlier değerlerdir : ( -123.30000000000001 , 1326.3000000000002 )\n",
      "area_mean kolonu için outlier veri sayısı : 25\n",
      "----------------------------------------------------------------------------------------------------\n",
      "Bu aralık dışında kalan değerler compactness_mean için outlier değerlerdir : ( -0.03329999999999997 , 0.22861999999999996 )\n",
      "compactness_mean kolonu için outlier veri sayısı : 16\n",
      "----------------------------------------------------------------------------------------------------\n",
      "\n",
      "Veri setimizin ilk hali ile istatistik sonuçları:\n",
      "        radius_mean    area_mean  compactness_mean\n",
      "count   569.000000   569.000000        569.000000\n",
      "mean     14.127292   654.889104          0.104341\n",
      "std       3.524049   351.914129          0.052813\n",
      "min       6.981000   143.500000          0.019380\n",
      "25%      11.700000   420.300000          0.064920\n",
      "50%      13.370000   551.100000          0.092630\n",
      "75%      15.780000   782.700000          0.130400\n",
      "max      28.110000  2501.000000          0.345400\n",
      "\n",
      " ----------------------------------------------------------------------------------------------------\n",
      "\n",
      "Outliers değerlerin filtrelenmesi sonucu istatistik sonuçları :\n",
      "        radius_mean    area_mean  compactness_mean\n",
      "count   553.000000   553.000000        553.000000\n",
      "mean     13.997792   641.867269          0.099594\n",
      "std       3.410688   338.427179          0.045174\n",
      "min       6.981000   143.500000          0.019380\n",
      "25%      11.670000   417.200000          0.063730\n",
      "50%      13.270000   541.800000          0.090090\n",
      "75%      15.610000   758.600000          0.128300\n",
      "max      28.110000  2501.000000          0.228400\n"
     ]
    }
   ],
   "metadata": {}
  },
  {
   "cell_type": "markdown",
   "source": [
    "Outlier veriler tespit edilip dataframe'den temizledikten sonra, veri setinin ilk hali ve temizlenmiş hali yukarıda gözükmektedir.\r\n",
    "\r\n",
    "* <b>radius_mean</b> verileri içerisinde 14 adet outlier verisi tespit edilmiştir. Bu verilerin çıkarılması sonucunda verilerin ilk haline göre ortalama yarıçap değeri 0.02 azalmıştır. Ortanca değer ise 13.37'den 13.27 olacak şekilde güncellendi. Ortalama ve ortanca değer birbirine yaklaşarak verilerin dağılımı normal dağılıma biraz daha yaklaşmış oldu. Standart sapmamızın yaklaşık 3.52'den yaklaşık 3.41'e gerilemesinden de bunu anlayabiliyoruz.\r\n",
    "* <b>area_mean</b> verileri içerisinde 25 adet outlier verisi tespit edilmiştir ve diğer kolonlara oranlar en fazla outlier veri içeren kolondur. Bu verilerin çıkarılması sonucunda verilerin ilk haline göre ortalama alan değeri yaklaşık 13.01, ortanca değer ise 9.3 azalmıştır ve standart sapması da yaklaşık 13.487 azalmıştır. Bu azalmalar ile birlikte verilerimiz normal dağılıma biraz daha yaklaşmıştır.\r\n",
    "* <b>compactness_mean</b> verileri içerisinde ise 16 adet outlier verisi tespit edilmiştir. Bu verilerin çıkarılması sonucunda verilerin ilk haline göre ortalama yoğunluk değeri yaklaşık 0.005 azalmıştır. Ortanca değer ise 0,0026 değerinde azalmıştır. Ortalama değer, ortanca değerden daha fazla azalma gösterdiğine göre dağılım biraz sağdan sola doğru normalleşmeye yaklaşmıştır diyebiliriz."
   ],
   "metadata": {}
  },
  {
   "cell_type": "markdown",
   "source": [
    "# <b> Soru 3 </b>\r\n",
    "### <b> Ekli data üzerindeki aşağıda yer alan kolonların birbirleriyle olan korelasyonlarını, covaryanslarını, Pearson Correlation Coefficientlarını, Spearman Rank Coefficientlarını ve Effect Size'larını bularak sözel ve karşılaştırmalı olarak yorumlayalım. </b>\r\n",
    " * Kolonlar : radius_mean, area_mean, compactness_mean"
   ],
   "metadata": {}
  },
  {
   "cell_type": "code",
   "execution_count": 6,
   "source": [
    "#korelasyon hesaplamasının gerçekleştirilmesi\r\n",
    "print(df.corr())\r\n",
    "print('\\n','*'*100)\r\n",
    "\r\n",
    "#Gerçekleştirilen hesaplamaya ait ısı haritasının oluşturulması\r\n",
    "h_labels = [x.replace('_', ' ').title() \r\n",
    "\r\n",
    "for x in list(df.select_dtypes(include=['number', 'bool']).columns.values)]\r\n",
    "\r\n",
    "fig, ax = plt.subplots(figsize=(10,6))\r\n",
    "_ = sns.heatmap(\r\n",
    "df.corr(), \r\n",
    "annot=True, \r\n",
    "xticklabels=h_labels, \r\n",
    "yticklabels=h_labels, \r\n",
    "cmap=sns.cubehelix_palette(as_cmap=True), ax=ax)"
   ],
   "outputs": [
    {
     "output_type": "stream",
     "name": "stdout",
     "text": [
      "                  radius_mean  area_mean  compactness_mean\n",
      "radius_mean          1.000000   0.987357          0.506124\n",
      "area_mean            0.987357   1.000000          0.498502\n",
      "compactness_mean     0.506124   0.498502          1.000000\n",
      "\n",
      " ****************************************************************************************************\n"
     ]
    },
    {
     "output_type": "display_data",
     "data": {
      "image/png": "[encoded data removed]",
      "text/plain": [
       "<Figure size 720x432 with 2 Axes>"
      ]
     },
     "metadata": {
      "needs_background": "light"
     }
    }
   ],
   "metadata": {}
  },
  {
   "cell_type": "markdown",
   "source": [
    "Öncelikle elimizde bulunan üç kolona ait verilerin birbirleriyle olan korelasyonlarını incelediğimizde <b>yarıçap (radius_mean)</b> ile <b>alan (area_mean)</b> arasında pozitif, güçlüdür. Bunu yarıçap ile alan korelasyon değerinin 0.987 olmasından anlayabiliyoruz. <b>Yarıçap</b> ile <b>yoğunluk (compactness_mean)</b> arasındaki ilişki, <b>alan</b> ile <b>yoğunluk</b> arasındaki ilişkiye fazlasıyla benzerdir ve bu ilişkiler tam olarak 1 ile 0 arasında yer almaktadır. Bunlar arasındaki ilişki, <b>yarıçap</b> ile <b>alan</b> arasındaki korelasyon kadar pozitif, güçlü değildir fakat yine de negatif ya da sıfır değerine de sahip değildir. Bu üç değer arasında genel olarak pozitif korelasyon olduğunu görebiliyoruz."
   ],
   "metadata": {}
  },
  {
   "cell_type": "code",
   "execution_count": 7,
   "source": [
    "#Her bir kolonun birbirleriyle ayrı olarak kovaryans hesaplamalarının gerçekleştirimi\r\n",
    "print(\"Yarıçap ile Alan arasındaki kovaryans :\", df.radius_mean.cov(df.area_mean))\r\n",
    "print(\"Yarıçap ile Yoğunluk arasındaki kovaryans :\", df.radius_mean.cov(df.compactness_mean))\r\n",
    "print(\"Alan ile Yoğunluk arasındaki kovaryans :\", df.area_mean.cov(df.compactness_mean))"
   ],
   "outputs": [
    {
     "output_type": "stream",
     "name": "stdout",
     "text": [
      "Yarıçap ile Alan arasındaki kovaryans : 1224.4834093464567\n",
      "Yarıçap ile Yoğunluk arasındaki kovaryans : 0.09419705682504517\n",
      "Alan ile Yoğunluk arasındaki kovaryans : 9.264930788911855\n"
     ]
    }
   ],
   "metadata": {}
  },
  {
   "cell_type": "markdown",
   "source": [
    "Kovaryans kısaca iki değer arasındaki ilişkiyi göstermektedir. İki değerin birbirisiyle ilişkili olup olmadığını anlamanın en basit yollarından birisidir kovaryans hesabı. Cov(x,y) < 0 ise iki değer arasında zıt yönlü bir ilişki vardır, Cov(x,y) = 0 ise bu iki değişken arasında herhangi bir ilişki yoktur, Cov(x,y) > 0 ise değişlenler arasında aynı yönde bir ilişki var demektir. Fakat bu ilişkinin anlamlı olabilmesi için, değişkenlerin biriminin mantıklı olması gerekmektedir. Eğer iki değişken farklı birimleri ölçüyorsa (sıcaklık vs. km) kovaryansın değerinin yorumlanması zor olacaktır. Yukarıda yer alan verilerimizin birbirleriyle olan kovaryans değerlerini inceleyecek olursak:\r\n",
    "* Yarıçap ile Alan arasında aynı yönlü ve çok kuvvetli bir ilişki var olduğunu anlıyoruz. Alanın değeri yarıçapa matematiksel olarak direkt bağlı olduğu için beklediğimiz değerin de zaten bu olduğunu anlıyoruz.\r\n",
    "* Yarıçap ile yoğunluk arasındaki kovaryans değerini incelediğimizde ise sıfıra fazlasıyla yakın bir değer görüyoruz. Hücrenin yarı çapı ile yoğunluğu arasında neredeyse herhangi bir ilişki olmadığını, yarıçapın artması ya da azalması hücre yoğunluğunun artmasına ya da azalmasına, ya da tam tersi, bir etkisi olmadığını anlayabiliyoruz.\r\n",
    "* Alan ile yoğunluk arasındaki kovaryans değeri de sıfıra çok uzak değildir. Yarıçap ile alan arasında çok kuvvetli ilişki olduğunu biliyorduk, yarıçap ile yoğunluk arasında bir ilişki olmadığını da fark ettik, dolayısıyla alan ile yoğunluk arasında da kuvvetli bir ilişki beklenemezdi. "
   ],
   "metadata": {}
  },
  {
   "cell_type": "code",
   "execution_count": 8,
   "source": [
    "print(\"Yarıçap ile Alan arasındaki Pearson korelasyon katsayısı :\", df.radius_mean.corr(df.area_mean, method='pearson'))\r\n",
    "print(\"Yarıçap ile Yoğunluk arasıdaki Pearson korelasyon katsayısı :\", df.radius_mean.corr(df.compactness_mean, method='pearson'))\r\n",
    "print(\"Alan ile Yoğunluk arasıdaki Pearson korelasyon katsayısı :\", df.area_mean.corr(df.compactness_mean, method='pearson'))"
   ],
   "outputs": [
    {
     "output_type": "stream",
     "name": "stdout",
     "text": [
      "Yarıçap ile Alan arasındaki Pearson korelasyon katsayısı : 0.9873571700566123\n",
      "Yarıçap ile Yoğunluk arasıdaki Pearson korelasyon katsayısı : 0.5061235775263634\n",
      "Alan ile Yoğunluk arasıdaki Pearson korelasyon katsayısı : 0.49850168215241175\n"
     ]
    }
   ],
   "metadata": {}
  },
  {
   "cell_type": "markdown",
   "source": [
    "Person korelasyon katsayısı da, iki veri arasındaki ilişkiyi -1 ve +1 arasında konumlandırarak hesaplar. Bu katsayılar iki değişken arasındaki doğrusal ilişkiyi ölçer. Yukarıda verilerimiz arasında hesaplamış olduğumuz Pearson korelasyon katsayılarını inceleyecek olursak:\r\n",
    "* Yarıçap ile Alan arasında yine beklenildiği gibi 1'e çok yakın, yani mükemmele yakın, bir doğrusal ilişki vardır. Zaten matematiksel olarak da beklentimiz bu yöndeydi.\r\n",
    "* Yarıçap ile Yoğunluk arasındaki Person korelasyon katsayısı ise 0.5, bunun grafiğini çizmek istesek, x eksenine paralel bir doğrumuz olurdu diyebiliriz. Yarıçap ile yoğunluk arasındaki bu ilişki katsayısının benzerinin alan ile yoğunluk arasında da olması kaçınılamazdır, alan ile yarıçap arasındaki katsayıyı düşündüğümüzde."
   ],
   "metadata": {}
  },
  {
   "cell_type": "code",
   "execution_count": 9,
   "source": [
    "print(\"Spearman Sıra Katsayıları\")\r\n",
    "print(\"-\"*50)\r\n",
    "print(\"Yarıçap - Alan     :\", stats.spearmanr(df.radius_mean, df.area_mean))\r\n",
    "print(\"Yarıçap - Yoğunluk :\", stats.spearmanr(df.radius_mean, df.compactness_mean))\r\n",
    "print(\"Alan - Yoğunluk    :\", stats.spearmanr(df.area_mean, df.compactness_mean))"
   ],
   "outputs": [
    {
     "output_type": "stream",
     "name": "stdout",
     "text": [
      "Spearman Sıra Katsayıları\n",
      "--------------------------------------------------\n",
      "Yarıçap - Alan     : SpearmanrResult(correlation=0.9996020278067481, pvalue=0.0)\n",
      "Yarıçap - Yoğunluk : SpearmanrResult(correlation=0.49757760995795647, pvalue=6.3349241442214955e-37)\n",
      "Alan - Yoğunluk    : SpearmanrResult(correlation=0.4889883974982949, pvalue=1.5419515156000542e-35)\n"
     ]
    }
   ],
   "metadata": {}
  },
  {
   "cell_type": "code",
   "execution_count": 10,
   "source": [
    "def cohend(data1, data2):\r\n",
    "    #sample'ların sayısı\r\n",
    "    x1, x2 = len(data1), len(data2)\r\n",
    "    \r\n",
    "    #Sample'ların varyansının hesaplanması\r\n",
    "    y1, y2 = np.var(data1, ddof=1), np.var(data2, ddof=1)\r\n",
    "\r\n",
    "    #Havuzlanmış standart sapmanın hesaplanması\r\n",
    "    s = sqrt(((x1 - 1) * y1 + (x2 - 1) * y2) / (x1 + x2 - 2))\r\n",
    "\r\n",
    "    #Sample'ların ortalamasının hesaplanması\r\n",
    "    z1, z2 = np.mean(data1), np.mean(data2)\r\n",
    "\r\n",
    "    return (z1- z2) / s\r\n",
    "\r\n",
    "print(\"Effect Size Değerleri (Cohen's d)\")\r\n",
    "print('-'*45)\r\n",
    "print(f'Yarıçap ile Alan     : {cohend(df.radius_mean, df.area_mean)}')\r\n",
    "print(f'Yarıçap ile Yoğunluk : {cohend(df.radius_mean, df.compactness_mean)}')\r\n",
    "print(f'Alan ile Yoğunluk    : {cohend(df.area_mean, df.compactness_mean)}')"
   ],
   "outputs": [
    {
     "output_type": "stream",
     "name": "stdout",
     "text": [
      "Effect Size Değerleri (Cohen's d)\n",
      "---------------------------------------------\n",
      "Yarıçap ile Alan     : -2.574857153581396\n",
      "Yarıçap ile Yoğunluk : 5.62682911222856\n",
      "Alan ile Yoğunluk    : 2.631339308769588\n"
     ]
    }
   ],
   "metadata": {}
  },
  {
   "cell_type": "markdown",
   "source": [
    "Etki değeri aralarında fark olmasını beklediğimiz gruplar arasındaki farkın büyüklüğünü gösteren istatistiksel değerdir. Farklı etki değeri hesaplama yöntemleri vardır ve bu ödevde kullanılan yöntem ise Cohen's d yöntemidir. Cohen genel bir öneri olmak üzere, d değerinin 0.2'den küçük olması durumunda etki büyüklüğü zayıf, 0.5 olması durumunda orta ve 0.8'den büyük olması durumunda ise kuvvetli olarak tanımlanabileceğini söylemektedir. Bunları dikkate alarak:\r\n",
    "* Yarıçap ile Alan arasındaki etki değeri yukarda gözüktüğü üzere yaklaşık -2.57'dir. Bu da etki değeri zayıf olan 0.2'den fazlasıyla küçüktür. Bu da demek oluyor ki yarıçap ile alan değerleri için daha büyük bir örneklem büyüklüğü gerekliliği vardır.\r\n",
    "* Yarıçap ile Yoğunluk ve Alan ile Yoğunluk arasındaki etki büyüklükleri de bir hayli fazladır. Bu ilişkiler arasındaki ilişkinin falasıyla kuvvetli olduğunu göstermektedir."
   ],
   "metadata": {}
  },
  {
   "cell_type": "markdown",
   "source": [
    "# <b> Soru 4 </b>\r\n",
    "### <b> Bayes Teoreminin gerçek hayatta karşımıza çıkan ve kullanılan örneklerinden 5 tane bulalım. </b>"
   ],
   "metadata": {}
  },
  {
   "cell_type": "markdown",
   "source": [
    "## <b> 1. 11 Eylül </b>\r\n",
    "\r\n",
    "11 Eylül olaylarının yaşandığı günün sabahında, Manhattan'daki İkiz Kuleler'e uçaklı bir terör saldırısı gerçekleştirilmesine, bir çok insan neredeyse hiç ihtimal vermezdi. Fakat ilk uçağın çarpması sonucunda herkes bir terör saldırısı olabileceği ihtimali üzerine düşündü ve ardından ikinci uçağın çarpması ile birlikte ihtimaller yerini kesin düşüncelere bıraktı. Peki Bayes Teoremi ile bu sonuçlar üretilebilir mi?\r\n",
    "\r\n",
    "Diyelim ki, ilk uçak çarpmadan önce Manhattan'da bir gökdelene bir terör saldırısı olma ihtimali 20.000'de 1 yani yüzde 0.005 olsun. Fakat, bir uçağın kaza ile Dünya Ticaret Merkezi'ne çarpmasına çok daha küçük bir olasılık tayin etmek gerekir ve bu ihtimalde deneysel olarak hesaplanabilir. 11 Eylül tarihine kadar Manhattan üzerinde uçuş yapılan her 25.000 günde sadece iki uçak kazası yaşandı. Bu istatistikten çıkan sonuç ise herhangi bir günde uçak kazası gerçekleşme ihtimali 12.500'de 1'dir. Bu rakamları Bayes Teoremine uygularsak, ilk uçağın çarpma anının ardından, bunun bir terör saldırısı olma ihtimali %0.005'ten %38'e yükselir.\r\n",
    "\r\n",
    "#### <b> ÖNSEL OLASILIK </b>\r\n",
    "Teröristlerin Manhattan gökdelenlerine uçakla çarpmalarına verdiğimiz başlangıç olasılığı -- x -- %0.005\r\n",
    "#### <b> YENİ BİR OLAY MEYDANA GELİR: İLK UÇAK ÇARPAR </b>\r\n",
    "Teröristler Manhattan gökdelenlerine saldırıyorlarsa, uçağın çarpma olasılığı -- y -- %100           \r\n",
    "Teröristler Manhattan gökdelenlerine saldrımıyorlarsa, uçağın çarpma olasılığı (yani bir kaza) -- z -- %0.008\r\n",
    "#### <b> SONSAL OLASILIK </b>\r\n",
    "İlk uçağın çarptığı göz önüne alındığında, terör saldırısı olasılığının gözden geçirilmiş hesaplaması -- xy / (xy + z(1-x)) -- %38\r\n",
    "\r\n",
    "Bayes Teoremi'nin temelinde, olasılık hesaplamalarımızı yalnızca bir kere güncelleyebileceğimiz fikri yoktur. Aksine, önümüze çıkan her yeni bulgu ile birlikte devamlı olarak güncelleyebiliriz. Böylece ilk uçağın çarpması sonucunda sonsal olasılığımız olan %38, ikinci uçağın çarpma ihtimali için bizim önsel olasılığımız olacaktır. Bu şekilde ikinci uçağın çarpma ihtimali için yukardaki işlemleri gerçekleştirdiğimizde, Dünya Ticaret Merkezine saldırı olması ihtimali %99 olur. Neredeyse kesin. New York'da bir sabah kaza yaşanması ihtimali bir o kadar olasılık dışıyken, ikinci bir kazanın olması imkansızdı... \r\n",
    "\r\n",
    "## <b> 2. Alan Turing - Enigma </b>\r\n",
    "\r\n",
    "Enigma, Almanlar tarafından üretilen ve \"kırılamaz\" olarak kabul edilen bir şifreleme sistemidir. Makinanın şifre üretmek için kullandığı kodlama sistemi her gün Alman ordusu tarafından değiştiriliyordu. Bu şekilde Almanlar'dan başka kimse, hangi kodlama sisteminin kullanıldığını bilmiyordu. Makinanın kendisi de zaten rastgele gibi gözüken bir şifreleme mekanizmasına dayanmaktaydı. Şifreleme sisteminin her gün değiştiriliyor olması, şifre kırıcı ekiplerin makinanın çalışma mantığını kırmak için yalnıza 24 saatlerinin olmasına neden oluyordu. Turing, bir Enigma mesajındaki harfleri tahmin etmesine, olasılıkları hesaplamasına ve yeni mesaj geldikçe daha fazla ipucu eklemesine olanak tanıyan Bayes teorisine dayalı bir sistem geliştirdi. Bu yöntemle test edilecek tekerlek ayarlarının sayısını azaltabildi ve bu da onun şifreleri kırmasına yardımcı oldu.\r\n",
    "\r\n",
    "\r\n",
    "## <b> 3. Aldatılma\r\n",
    "\r\n",
    "Varsayalım ki partnerinizle aynı evde yaşıyorsunuz ve bir iş gezisinden evinize döndüğünüzde dolabınızın çekmecesinde yabancı bir iç çamaşırı buldunuz. Kendinize sorduğunuz soru muhtemelen şu olur: 'Partnerimin beni aldatma olasılığı nedir?'. Burada koşul, iç çamaşırı bulmuş olmanız; değerlendirmek istenilen hipotez ise, aldatılıyor olma olasılığınız. Bayes teoremi bu türden bir soruya cevap verebilir, şu üç niceliği cevaplamak şartıyla:\r\n",
    "\r\n",
    "1. İlk olarak, iç çamaşırınının ortaya çıkışının, hipotezinizin doğru olduğunun, yani aldatıldığınızın, bir şartı olması olasılığının hesaplanması gerekmektedir. Varsayalım ki, bu problemde siz bir kadınsınız ve partneriniz bir erkek. Eğer sizi aldatıyorsa, iç çamaşırının oraya nasıl girdiğini hayal etmel zor olmayacaktır. Ama eğer aldatıyorsa da, ondan daha dikkatli olmasını beklersiniz. Sizi aldatma olasılığına bağlı olarak, iç çamaşırının ortaya çıkma olasılığına %50 diyelim.\r\n",
    "\r\n",
    "2. İkinci olarak, hipotezinizin yanlış olması koşuluna bağlı olarak, iç çamaşırının ortaya çıkması olasılığını hesaplamak gerekiyor. Eğer sizi aldatmıyorsa, onların oraya nasıl girdiğini açıklayabilicek herhangi bir masum açıklama var mı? Her ne kadar bazıları hoş olmasa da (onun olabilir) var. Valizi bir başkasınınkiyle karıştımış olabilir, sizin güveninizi kazanmış bir kadın arkadaşı gece sizde kalmış olabilir. Size aldığı ve paketlemeyi unuttuğu bir hediye olabilir. Bu teoriler ne kadar kötü mazeretler olsa da hiçbiri özünde savunulamaz değillerdir. Bir bütün olarak bunların olasılığına %5 diyelim. \r\n",
    "\r\n",
    "3. Üçüncüsü ve en öenmlisi, Bayesyenlerin önsel olasılık diye adlandırdıkları şeye ihtiyaç vardır. İç çamaşırını bulmadan önce, partnerinizin sizi aldatmasına verdiğiniz ihtimal nedir? Tabii ki iç çamaşırını bulduktan sonra bu soruya nesnel cevap vermek imkansıza yakındır. Fakat bazen, bu tarz bir rakamı, deneysel bir şekilde hesaplamak mümkündür. Araştırmalara göre evli çiftlerin yüzde 4'ü, herhangi bir yılda eşlerini aldattıklarını gösteriyor, biz de bunu önsel olasılık olarak kullanabiliriz.\r\n",
    "\r\n",
    "#### <b> ÖNSEL OLASILIK</b>\r\n",
    "Başlangıçta, sizi aldatmasına verilen ihtimal  -- x -- %4\r\n",
    "#### <b> YENİ BİR OLAY MEYDANA GELİR: GİZEMLİ BİR İÇ ÇAMAŞIRI BULUNDU </b>\r\n",
    "Sizi aldatıyor olması koşuluyla iç çamaşırının ortaya çıkma ihtimali  -- y -- %50         \r\n",
    "Sizi aldatmıyorsa iç çamaşırının ortaya çıkma ihtimali  -- %5 --\r\n",
    "#### <b> SONSAL OLASILIK </b>\r\n",
    "İç çamaşırının bulunması göz önüne alındığında, sizi aldatıyor olmasının ne kadar olası olduğunun hesaplaması -- xy / (xy + z(1-x)) -- %29\r\n",
    "\r\n",
    "Görüldüğü üzere olasılık hala epey düşük: %29. Bu değer, iç çamaşırını bulmak suçlamak için yeterince yeterli bir sebepken mantığa aykırı gelebilir. Fakat bu çoğunlukla, onun sizi aldatması için belirlediğiniz önsel olasılığın düşük olmasından kaynaklanıyor. Masum bir adamın iç çamaşırının ortaya çıkışıyla ilgili suçlu bir adamdan daha az akla yatkın açıklaması olmasına dayanarak, onun masum bir adam olduğunu düşünmeye başlıyorsunuz ve eşitlikte bu durum ağır basıyor.\r\n",
    "\r\n",
    "## <b> 4. Mamogram </b>\r\n",
    "\r\n",
    "Önsel olasılıklar yüksek olduğunda, yeni bulgulara karşı şaşırtıcı bir şekilde direnç gösterebiliyorlar. Kırklı yaşlardaki kadınlarda mem kanseri görülmesi ihtimali epey düşüktür, yüzde 1.4 civarındadır. Fakat mamogram sonucu pozitifse bu olasılık ne olur? Araştırmalara göre, meme kanseri olmayan kadınlarda mamogram sonucunun pozitif çıkma olasılığı yaklaşık yüzde 10'dur. Mamogram ise meme kanseri olanların yaklaşık %75'ini tespit edebiliyor. Bu istatistiklere baktığımızda, mamogramın pozitif çıkması epey kötü bir haber gibi gözüküyor. Fakat Bayes Teoremi'ni bu rakamlara uyguladığımızda, farklı bir sonuçla karşılaşılıyor: Pozitif mamogram sonucuna sahip olan kırklı yaşlarda bir kadının meme kanseri olma ihtimali hala yüzde 10. Bu yalancı pozitifler eşitliğine hakim oluyor, çünkü çok az sayıda genç kadında meme kanseri tespit ediliyor. Bu nedenle bir çok doktor, kadınlara düzenli mamogram çekimlerine ellilerinde ve meme kanseri olmalarının önsel olasılığı yüksekken başlamalarını tavsiye ediyor.\r\n",
    "\r\n",
    "## <b> 5. Alkolik </b>\r\n",
    "\r\n",
    "Alkolik olan birisinin karaciğer hastası olma olasılığını Bayes Teoremi ile hesaplayabiliriz. A değeri, hastanın karaciğer hastalığı var anlamına gelsin. Geçmiş veriler incelendiğinde, kliniğe giren hastaların yüzde 10'unun karaciğer hastalığı olduğunu görüyoruz. Bu durumda P(A) değeri 0.10'a eşit olur. B değeri, hastanın alkolik olduğu anlamına gelsin. Kliniğe giren hastaların yüzde 5'i alkolik olduğuna göre P(B) değeri 0.05'e eşit olur. Karaciğer hastalığı teşhisi konulan hastaların yüzde 7'si alokil olduğuna göre, P(B|A) değerimiz 0.07'ye eşit olur.\r\n",
    "Bayes Teorimi bize:\r\n",
    "P(A|B) = (0.07*0.1)/0.05 = 0.14\r\n",
    "sonucunu verir. Bu da demek oluyor ki, kliniğe gelen hasta alkolik ise karaciğer hastalığının olma ihtimali 0.14'tür."
   ],
   "metadata": {}
  },
  {
   "cell_type": "markdown",
   "source": [
    "# <b> Soru 5 </b>\r\n",
    "### <b> Poisson, Normal , Gamma, Weilbull ve Logaritmik dağılımların benzer ve farklı yönlerini bir tablo halinde çıkaralım.(Araştırma Ödevi) </b>"
   ],
   "metadata": {}
  },
  {
   "cell_type": "markdown",
   "source": [
    "<img src=\"distribution.png\">"
   ],
   "metadata": {}
  }
 ],
 "metadata": {
  "orig_nbformat": 4,
  "language_info": {
   "name": "python",
   "version": "3.7.6",
   "mimetype": "text/x-python",
   "codemirror_mode": {
    "name": "ipython",
    "version": 3
   },
   "pygments_lexer": "ipython3",
   "nbconvert_exporter": "python",
   "file_extension": ".py"
  },
  "kernelspec": {
   "name": "python3",
   "display_name": "Python 3.7.6 64-bit ('base': conda)"
  },
  "interpreter": {
   "hash": "b3ba2566441a7c06988d0923437866b63cedc61552a5af99d1f4fb67d367b25f"
  }
 },
 "nbformat": 4,
 "nbformat_minor": 2
}