{
  "cells": [
    {
      "cell_type": "markdown",
      "metadata": {
        "id": "kJ-zfi6HcWq-"
      },
      "source": [
        "<h2>Soru 1</h2>\n",
        "<h3>One hot encoding modelin görmediği veriye nasıl uygulanır?</h3>\n",
        "\n",
        "Modelin görmediği veriye, validation ya da test (farklı kaynaklarda birbirlerinin yerlerine kullanılabiliyor), eğitim sırasında sanki hiç elimizde öyle bir veri yokmuş gibi davranmak isteriz, dışlarız onu. Fakat, train setine yapılan tüm dönüşümler her ne olursa olsun, tahminlerde bulunmadan önce test setine de yapılmalıdır. Bu dönüşümler ayrı ayrı gerçekleştirilmelidir, buradaki kilit nokta budur.\n",
        "\n",
        "Örneğin, test setinde kategorilerden biri eksikse, eğittiğimiz model yine de o dummy değişkeni bekleyeceğinden, eksik kategori için (eğitim setinde bulunabilecek) bir dummy değişken olmalıdır. Test setinin fazladan bir kategorisi varsa, bu muhtemelen bazı \"diğer\" kategorilerle ele alınmalıdır. Örnek bir kod bloğu aşağıda yer almaktadır.\n",
        "<br>"
      ]
    },
    {
      "cell_type": "code",
      "execution_count": 49,
      "metadata": {
        "colab": {
          "base_uri": "https://localhost:8080/"
        },
        "id": "3xZj5tjGcZ5t",
        "outputId": "c8aa8482-b46c-4199-dff7-0ef7d7fefe4d"
      },
      "outputs": [
        {
          "name": "stdout",
          "output_type": "stream",
          "text": [
            "Yanlış yaklaşılan one-hot encoding\n",
            "**************************************************\n",
            "Traing seti :\n",
            " [[1. 0. 0. 0.]\n",
            " [0. 1. 0. 0.]\n",
            " [1. 0. 0. 0.]\n",
            " [0. 0. 1. 0.]]\n",
            "\n",
            "Test seti :\n",
            " [[0. 1. 0. 0.]\n",
            " [1. 0. 0. 0.]\n",
            " [0. 0. 0. 1.]] \n",
            "\n",
            "\n",
            "Doğru yaklaşılan one-hot encoding\n",
            "**************************************************\n",
            "Traing seti :\n",
            " [[1. 0. 0.]\n",
            " [0. 1. 0.]\n",
            " [1. 0. 0.]\n",
            " [0. 0. 1.]] \n",
            "\n",
            "Test seti :\n",
            " [[0. 1. 0.]\n",
            " [1. 0. 0.]\n",
            " [0. 0. 0.]]\n"
          ]
        }
      ],
      "source": [
        "import pandas as pd\n",
        "from sklearn.preprocessing import OneHotEncoder\n",
        "\n",
        "train = pd.DataFrame(['A', 'B', 'A', 'C'])\n",
        "test = pd.DataFrame(['B', 'A', 'D'])\n",
        "\n",
        "full = pd.concat((train, test))\n",
        "\n",
        "enc_false = OneHotEncoder(handle_unknown = 'ignore')\n",
        "enc_false.fit(full)\n",
        "\n",
        "print('Yanlış yaklaşılan one-hot encoding')\n",
        "print('*'*50)\n",
        "print(f'Traing seti :\\n {enc_false.transform(train).toarray()}\\n')\n",
        "print(f'Test seti :\\n {enc_false.transform(test).toarray()} \\n\\n')\n",
        "\n",
        "enc_true = OneHotEncoder(handle_unknown = 'ignore')\n",
        "enc_true.fit(train)\n",
        "print('Doğru yaklaşılan one-hot encoding')\n",
        "print('*'*50)\n",
        "print(f'Traing seti :\\n {enc_true.transform(train).toarray()} \\n')\n",
        "print(f'Test seti :\\n {enc_true.transform(test).toarray()}')"
      ]
    },
    {
      "cell_type": "markdown",
      "metadata": {
        "id": "C61nkLMzcd5b"
      },
      "source": [
        "<br>\n",
        "Yanlış yaklaşımda D için fazladan bir sütun olduğu dikkatimizi çekiyor. Eğitim sırasında D'yi hiç bilemeyeceğiz, bu yüzden onun için bir sütun olmamalı.\n",
        "\n",
        "Burada önemli olan bir nokta da <b>handle_unknown</b> parametresidir. Bu parametre dönüştürme sırasında bilinmeyen bir kategorik özellik varsa bir hatanın oluşturulup oluşturulmayacağı veya yoksayılacağını belirlemek içindir. Eğer parametre <b>'ignore'</b> ayarlandıysa ve dönüştürme işlemi sırasında bilinmeyen bir kategori ile karşılaşılırsa, bu özellik için elde edilen one-hot kodlanmış sütunların tümü sıfır olacaktır. Hemen bunu da bir örnek ile açıklayalım.\n",
        "<br>"
      ]
    },
    {
      "cell_type": "code",
      "execution_count": 50,
      "metadata": {
        "colab": {
          "base_uri": "https://localhost:8080/",
          "height": 173
        },
        "id": "pOUY7JPhciOv",
        "outputId": "e0045c5b-287a-4645-f45a-659cfc79f8f4"
      },
      "outputs": [
        {
          "data": {
            "text/html": [
              "<div>\n",
              "<style scoped>\n",
              "    .dataframe tbody tr th:only-of-type {\n",
              "        vertical-align: middle;\n",
              "    }\n",
              "\n",
              "    .dataframe tbody tr th {\n",
              "        vertical-align: top;\n",
              "    }\n",
              "\n",
              "    .dataframe thead th {\n",
              "        text-align: right;\n",
              "    }\n",
              "</style>\n",
              "<table border=\"1\" class=\"dataframe\">\n",
              "  <thead>\n",
              "    <tr style=\"text-align: right;\">\n",
              "      <th></th>\n",
              "      <th>Model</th>\n",
              "      <th>Year</th>\n",
              "      <th>HP</th>\n",
              "    </tr>\n",
              "  </thead>\n",
              "  <tbody>\n",
              "    <tr>\n",
              "      <th>0</th>\n",
              "      <td>EVO</td>\n",
              "      <td>2008</td>\n",
              "      <td>280</td>\n",
              "    </tr>\n",
              "    <tr>\n",
              "      <th>1</th>\n",
              "      <td>GTR</td>\n",
              "      <td>2015</td>\n",
              "      <td>500</td>\n",
              "    </tr>\n",
              "    <tr>\n",
              "      <th>2</th>\n",
              "      <td>SUPRA</td>\n",
              "      <td>2001</td>\n",
              "      <td>240</td>\n",
              "    </tr>\n",
              "    <tr>\n",
              "      <th>3</th>\n",
              "      <td>EVO</td>\n",
              "      <td>2010</td>\n",
              "      <td>300</td>\n",
              "    </tr>\n",
              "  </tbody>\n",
              "</table>\n",
              "</div>"
            ],
            "text/plain": [
              "   Model  Year   HP\n",
              "0    EVO  2008  280\n",
              "1    GTR  2015  500\n",
              "2  SUPRA  2001  240\n",
              "3    EVO  2010  300"
            ]
          },
          "execution_count": 50,
          "metadata": {},
          "output_type": "execute_result"
        }
      ],
      "source": [
        "data = {'Model': ['EVO', 'GTR', 'SUPRA', 'EVO'],\n",
        "        'Year' : [2008, 2015, 2001, 2010], \n",
        "        'HP' : [280, 500, 240, 300]}\n",
        "jdm_train = pd.DataFrame(data)\n",
        "jdm_train"
      ]
    },
    {
      "cell_type": "markdown",
      "metadata": {
        "id": "cEPjvacZclIX"
      },
      "source": [
        "<br>\n",
        "Yukarıdaki veri setinin bizim train setimiz olduğunu düşünelim. <b>Model</b> kategorik bir değişken, dolayısıyla ona One-Hot Encoding uygulayabiliriz.\n",
        "<br>"
      ]
    },
    {
      "cell_type": "code",
      "execution_count": 51,
      "metadata": {
        "colab": {
          "base_uri": "https://localhost:8080/",
          "height": 173
        },
        "id": "Aw171lCTcnQH",
        "outputId": "b93a9177-85b2-4105-ee8c-bf50e2c45a59"
      },
      "outputs": [
        {
          "data": {
            "text/html": [
              "<div>\n",
              "<style scoped>\n",
              "    .dataframe tbody tr th:only-of-type {\n",
              "        vertical-align: middle;\n",
              "    }\n",
              "\n",
              "    .dataframe tbody tr th {\n",
              "        vertical-align: top;\n",
              "    }\n",
              "\n",
              "    .dataframe thead th {\n",
              "        text-align: right;\n",
              "    }\n",
              "</style>\n",
              "<table border=\"1\" class=\"dataframe\">\n",
              "  <thead>\n",
              "    <tr style=\"text-align: right;\">\n",
              "      <th></th>\n",
              "      <th>Model</th>\n",
              "      <th>Year</th>\n",
              "      <th>HP</th>\n",
              "      <th>0</th>\n",
              "      <th>1</th>\n",
              "      <th>2</th>\n",
              "    </tr>\n",
              "  </thead>\n",
              "  <tbody>\n",
              "    <tr>\n",
              "      <th>0</th>\n",
              "      <td>EVO</td>\n",
              "      <td>2008</td>\n",
              "      <td>280</td>\n",
              "      <td>1.0</td>\n",
              "      <td>0.0</td>\n",
              "      <td>0.0</td>\n",
              "    </tr>\n",
              "    <tr>\n",
              "      <th>1</th>\n",
              "      <td>GTR</td>\n",
              "      <td>2015</td>\n",
              "      <td>500</td>\n",
              "      <td>0.0</td>\n",
              "      <td>1.0</td>\n",
              "      <td>0.0</td>\n",
              "    </tr>\n",
              "    <tr>\n",
              "      <th>2</th>\n",
              "      <td>SUPRA</td>\n",
              "      <td>2001</td>\n",
              "      <td>240</td>\n",
              "      <td>0.0</td>\n",
              "      <td>0.0</td>\n",
              "      <td>1.0</td>\n",
              "    </tr>\n",
              "    <tr>\n",
              "      <th>3</th>\n",
              "      <td>EVO</td>\n",
              "      <td>2010</td>\n",
              "      <td>300</td>\n",
              "      <td>1.0</td>\n",
              "      <td>0.0</td>\n",
              "      <td>0.0</td>\n",
              "    </tr>\n",
              "  </tbody>\n",
              "</table>\n",
              "</div>"
            ],
            "text/plain": [
              "   Model  Year   HP    0    1    2\n",
              "0    EVO  2008  280  1.0  0.0  0.0\n",
              "1    GTR  2015  500  0.0  1.0  0.0\n",
              "2  SUPRA  2001  240  0.0  0.0  1.0\n",
              "3    EVO  2010  300  1.0  0.0  0.0"
            ]
          },
          "execution_count": 51,
          "metadata": {},
          "output_type": "execute_result"
        }
      ],
      "source": [
        "enc = OneHotEncoder(handle_unknown='ignore', sparse=False)\n",
        "enc_fit = enc.fit(jdm_train[['Model']])\n",
        "enc_fit_df = pd.DataFrame(enc_fit.fit_transform(jdm_train[['Model']]))\n",
        "jdm_train = jdm_train.join(enc_fit_df)\n",
        "jdm_train"
      ]
    },
    {
      "cell_type": "markdown",
      "metadata": {
        "id": "BcSejZYscox_"
      },
      "source": [
        "<br>\n",
        "Bu işlemden sonra bir test verisi ayarlayalım ve onu encode edelim. Yukarıdaki yaptığımız işlem sonucunda, test setimizde yer alan ve train setinde hiç olmamış olan verilere 0 atadığını görmeyi umuyoruz.\n",
        "<br>"
      ]
    },
    {
      "cell_type": "code",
      "execution_count": 52,
      "metadata": {
        "colab": {
          "base_uri": "https://localhost:8080/",
          "height": 142
        },
        "id": "ydar1Kbkcr9z",
        "outputId": "843f581f-687a-403e-f13d-c6693cccb268"
      },
      "outputs": [
        {
          "data": {
            "text/html": [
              "<div>\n",
              "<style scoped>\n",
              "    .dataframe tbody tr th:only-of-type {\n",
              "        vertical-align: middle;\n",
              "    }\n",
              "\n",
              "    .dataframe tbody tr th {\n",
              "        vertical-align: top;\n",
              "    }\n",
              "\n",
              "    .dataframe thead th {\n",
              "        text-align: right;\n",
              "    }\n",
              "</style>\n",
              "<table border=\"1\" class=\"dataframe\">\n",
              "  <thead>\n",
              "    <tr style=\"text-align: right;\">\n",
              "      <th></th>\n",
              "      <th>Model</th>\n",
              "      <th>Year</th>\n",
              "      <th>HP</th>\n",
              "    </tr>\n",
              "  </thead>\n",
              "  <tbody>\n",
              "    <tr>\n",
              "      <th>0</th>\n",
              "      <td>EVO</td>\n",
              "      <td>2010</td>\n",
              "      <td>300</td>\n",
              "    </tr>\n",
              "    <tr>\n",
              "      <th>1</th>\n",
              "      <td>NSX</td>\n",
              "      <td>2000</td>\n",
              "      <td>250</td>\n",
              "    </tr>\n",
              "    <tr>\n",
              "      <th>2</th>\n",
              "      <td>Silva</td>\n",
              "      <td>1999</td>\n",
              "      <td>200</td>\n",
              "    </tr>\n",
              "  </tbody>\n",
              "</table>\n",
              "</div>"
            ],
            "text/plain": [
              "   Model  Year   HP\n",
              "0    EVO  2010  300\n",
              "1    NSX  2000  250\n",
              "2  Silva  1999  200"
            ]
          },
          "execution_count": 52,
          "metadata": {},
          "output_type": "execute_result"
        }
      ],
      "source": [
        "data_test = {'Model' : ['EVO', 'NSX', 'Silva'],\n",
        "             'Year': [2010, 2000, 1999],\n",
        "             'HP' : [300, 250, 200]}\n",
        "\n",
        "jdm_test = pd.DataFrame(data_test)\n",
        "jdm_test"
      ]
    },
    {
      "cell_type": "markdown",
      "metadata": {
        "id": "7tKtg44vcuH_"
      },
      "source": [
        "<br>\n",
        "Oluşturduğumuz test verisinde 1. ve 2. indexe sahip değerlerin <b>Model</b> değişkeni train setimizde hiç yoktu. Bu setimizi train setimizle fit ettiğimiz değişken ile <b>(enc_fit)</b> encode edelim.\n",
        "<br>"
      ]
    },
    {
      "cell_type": "code",
      "execution_count": 53,
      "metadata": {
        "colab": {
          "base_uri": "https://localhost:8080/",
          "height": 142
        },
        "id": "h3VR8RyCcv69",
        "outputId": "9e642d47-264d-4f7f-9c15-7766ddf3c275"
      },
      "outputs": [
        {
          "data": {
            "text/html": [
              "<div>\n",
              "<style scoped>\n",
              "    .dataframe tbody tr th:only-of-type {\n",
              "        vertical-align: middle;\n",
              "    }\n",
              "\n",
              "    .dataframe tbody tr th {\n",
              "        vertical-align: top;\n",
              "    }\n",
              "\n",
              "    .dataframe thead th {\n",
              "        text-align: right;\n",
              "    }\n",
              "</style>\n",
              "<table border=\"1\" class=\"dataframe\">\n",
              "  <thead>\n",
              "    <tr style=\"text-align: right;\">\n",
              "      <th></th>\n",
              "      <th>Model</th>\n",
              "      <th>Year</th>\n",
              "      <th>HP</th>\n",
              "      <th>0</th>\n",
              "      <th>1</th>\n",
              "      <th>2</th>\n",
              "    </tr>\n",
              "  </thead>\n",
              "  <tbody>\n",
              "    <tr>\n",
              "      <th>0</th>\n",
              "      <td>EVO</td>\n",
              "      <td>2010</td>\n",
              "      <td>300</td>\n",
              "      <td>1.0</td>\n",
              "      <td>0.0</td>\n",
              "      <td>0.0</td>\n",
              "    </tr>\n",
              "    <tr>\n",
              "      <th>1</th>\n",
              "      <td>NSX</td>\n",
              "      <td>2000</td>\n",
              "      <td>250</td>\n",
              "      <td>0.0</td>\n",
              "      <td>0.0</td>\n",
              "      <td>0.0</td>\n",
              "    </tr>\n",
              "    <tr>\n",
              "      <th>2</th>\n",
              "      <td>Silva</td>\n",
              "      <td>1999</td>\n",
              "      <td>200</td>\n",
              "      <td>0.0</td>\n",
              "      <td>0.0</td>\n",
              "      <td>0.0</td>\n",
              "    </tr>\n",
              "  </tbody>\n",
              "</table>\n",
              "</div>"
            ],
            "text/plain": [
              "   Model  Year   HP    0    1    2\n",
              "0    EVO  2010  300  1.0  0.0  0.0\n",
              "1    NSX  2000  250  0.0  0.0  0.0\n",
              "2  Silva  1999  200  0.0  0.0  0.0"
            ]
          },
          "execution_count": 53,
          "metadata": {},
          "output_type": "execute_result"
        }
      ],
      "source": [
        "enc_fit_test = pd.DataFrame(enc_fit.transform(jdm_test[['Model']]))\n",
        "jdm_test = jdm_test.join(enc_fit_test)\n",
        "jdm_test"
      ]
    },
    {
      "cell_type": "markdown",
      "metadata": {
        "id": "d_wNDnMGcxUg"
      },
      "source": [
        "<br>\n",
        "Bilinmeyen tüm kategorileri aynı şekilde kodlandığını görmüş olduk. Bu, bilinmeyen kategorilerden yeni bir kategori tanımlandığı anlamına gelmektedir."
      ]
    },
    {
      "cell_type": "markdown",
      "metadata": {
        "id": "Kem1sCD9c0uE"
      },
      "source": [
        "<br>\n",
        "<h2>Soru 2</h2>\n",
        "<h3>Labelencoding'de ilgili kolon için ölçeklendirme nasıl yapılır? (Verinin doğru etkisiyle sayısal olarak dönüştürülmesi)</h3>\n",
        "\n",
        "Python'da Label Encoding işleminde, kategorik değişkeni 0 ile sınıf sayısı eksi 1 değerleri ile değiştiririz. Örneğin 5 adet kategorik değişkenimiz varsa biz bunlar için 0,1,2,3,4 değerlerini kullanırız.\n",
        "\n",
        "Bunu daha iyi anlamak için aşağıda Hindistan'da ki Covid-19 vakalarına ait verileri inceleyelim. Verileri incelediğimizde göze direkt olarak çarpıyor ki <b>State</b> kolonu kategorik veriler içermektedir ve diğer veriler ise nümeriktir. O zaman State kolonuna Label kodlaması yapmalıyız.\n",
        "<br>"
      ]
    },
    {
      "cell_type": "markdown",
      "metadata": {
        "id": "d1jETgcUc2wh"
      },
      "source": [
        "<img src = 'https://lh4.googleusercontent.com/1mpZdH8WhawXeJ-7Vursq-84VSNI1wIMuZ0JeZxs1N82HMUExYmBhVHlW_QvVySeUoxX9ABLyjU5y80C8NChpez4rYvzJC14wlG7xpQI8w0vBlxLVsTww8VQoyo2f-7o4HRnQmlCMKNuvXvvGw'></img>"
      ]
    },
    {
      "cell_type": "markdown",
      "metadata": {
        "id": "VmVjc7pHc66F"
      },
      "source": [
        "<br>\n",
        "Aşağıdaki görseli incelersek, Label Encoding'den sonra kategorik değerlerin her birisine sayısal bir değer atandığını görürüz. Bu sayısal değerlerin neden sırasıyla 0,1,2 ya da 5,4,3 gibi atanmadığını merak ediyoruz. Cevap ise basit, atamalar alfabetik şekilde gerçekleştiriliyor, aynen bu kadar.\n",
        "<br>"
      ]
    },
    {
      "cell_type": "markdown",
      "metadata": {
        "id": "KrsW-DY3c89b"
      },
      "source": [
        "<img src = 'https://d1m75rqqgidzqn.cloudfront.net/wp-data/2020/08/11155757/image-37.png'></img>"
      ]
    },
    {
      "cell_type": "markdown",
      "metadata": {
        "id": "AlJzDbQCdAoP"
      },
      "source": [
        "<br>\n",
        "<h3>Python ile Label Encoding</h3>\n",
        "\n",
        "<ol>\n",
        "    <li>Öncelikle Label Encoding işleminde kullancağımız Pandas ve NumPy kütüphanelerini import edelim.</li>\n",
        "    <li>Ardından Pandas yardımıyla veri setimizi okuyacağız ve sonrasında verilerin düzgün yüklenip yüklenmediğini info() metoduyla inceleyeceğiz. State verisinin nesne tipinde olduğunu görebiliyoruz, bu adımdan sonra Label Encoding'e geçebiliriz.</li>\n",
        "</ol>\n",
        "<br>"
      ]
    },
    {
      "cell_type": "code",
      "execution_count": 54,
      "metadata": {
        "colab": {
          "base_uri": "https://localhost:8080/"
        },
        "id": "d20g6_9RdDwi",
        "outputId": "1bcb4b6b-7be9-48f6-edba-e53213396724"
      },
      "outputs": [
        {
          "name": "stdout",
          "output_type": "stream",
          "text": [
            "<class 'pandas.core.frame.DataFrame'>\n",
            "RangeIndex: 6 entries, 0 to 5\n",
            "Data columns (total 5 columns):\n",
            " #   Column      Non-Null Count  Dtype \n",
            "---  ------      --------------  ----- \n",
            " 0   Unnamed: 0  6 non-null      int64 \n",
            " 1   State       6 non-null      object\n",
            " 2   Confimed    6 non-null      int64 \n",
            " 3   Deaths      6 non-null      int64 \n",
            " 4   Recovered   6 non-null      int64 \n",
            "dtypes: int64(4), object(1)\n",
            "memory usage: 368.0+ bytes\n"
          ]
        }
      ],
      "source": [
        "# Pandas ve NumPy'ı import etme\n",
        "import pandas as pd\n",
        "import numpy as np\n",
        "\n",
        "# Verilerimizin olduğu csv dosyasını okuyup bir dataframe'e aktarma\n",
        "covid19 = pd.read_csv('/covid19_india.csv')\n",
        "\n",
        "# Verisetimizin içeriğini inceleme\n",
        "covid19.info()"
      ]
    },
    {
      "cell_type": "markdown",
      "metadata": {
        "id": "vGJ_SmgYdVed"
      },
      "source": [
        "<br>\n",
        "Label Encoding iki şekilde gerçekleştirilebilir:\n",
        "<li>Scikit-learn kütüphanesinde bulunan LabelEncoder sınıfını</li>\n",
        "<li>Kategori kodları</li>\n",
        "\n",
        "<h4>1. Scikit-learn Yaklaşımı</h4>\n",
        "\n",
        "Öncelikle ilgili sınıfı kütüphaneden import ederiz.\n",
        "<br>"
      ]
    },
    {
      "cell_type": "code",
      "execution_count": 55,
      "metadata": {
        "id": "mWBOadCTddpO"
      },
      "outputs": [],
      "source": [
        "from sklearn.preprocessing import LabelEncoder"
      ]
    },
    {
      "cell_type": "markdown",
      "metadata": {
        "id": "_GwZnExEde8_"
      },
      "source": [
        "<br>\n",
        "Ardından sırasıyla:\n",
        "<ol>\n",
        "<li>İlk olarak LabelEncoder() sınıfından bir labelencoder değişkeni/nesnesi türetilir.</li>\n",
        "<li>Ardından kategorik değişkene sayısal değer atayan fit_transform yapılır ve oluşturulan sayısal değerler, yeni yaratılan 'State_N' kolonunda saklanır.</li>\n",
        "<li>Unutulmaması gereken nokta, State adlı sütunu sayısal ifadeye dönüştürdük ve bu değerleri State_N sütununa aktardık. Fakat State sütunu hala veri setimizin içerisinde yer almaktadır. Veri seti ile modeli beslemeden önce State sütununun kaldırılması gerektiği unutulmamalıdır.</li>\n",
        "</ol>\n",
        "<br>"
      ]
    },
    {
      "cell_type": "code",
      "execution_count": 56,
      "metadata": {
        "colab": {
          "base_uri": "https://localhost:8080/",
          "height": 235
        },
        "id": "xl_LEIlIdkE2",
        "outputId": "af74f97d-61ff-44cb-9911-71443bc2a6af"
      },
      "outputs": [
        {
          "data": {
            "text/html": [
              "<div>\n",
              "<style scoped>\n",
              "    .dataframe tbody tr th:only-of-type {\n",
              "        vertical-align: middle;\n",
              "    }\n",
              "\n",
              "    .dataframe tbody tr th {\n",
              "        vertical-align: top;\n",
              "    }\n",
              "\n",
              "    .dataframe thead th {\n",
              "        text-align: right;\n",
              "    }\n",
              "</style>\n",
              "<table border=\"1\" class=\"dataframe\">\n",
              "  <thead>\n",
              "    <tr style=\"text-align: right;\">\n",
              "      <th></th>\n",
              "      <th>Unnamed: 0</th>\n",
              "      <th>State</th>\n",
              "      <th>Confimed</th>\n",
              "      <th>Deaths</th>\n",
              "      <th>Recovered</th>\n",
              "      <th>State_N</th>\n",
              "    </tr>\n",
              "  </thead>\n",
              "  <tbody>\n",
              "    <tr>\n",
              "      <th>0</th>\n",
              "      <td>0</td>\n",
              "      <td>Maharashtra</td>\n",
              "      <td>284281</td>\n",
              "      <td>11194</td>\n",
              "      <td>158140</td>\n",
              "      <td>3</td>\n",
              "    </tr>\n",
              "    <tr>\n",
              "      <th>1</th>\n",
              "      <td>1</td>\n",
              "      <td>Tamil Nadu</td>\n",
              "      <td>156369</td>\n",
              "      <td>2568</td>\n",
              "      <td>107416</td>\n",
              "      <td>4</td>\n",
              "    </tr>\n",
              "    <tr>\n",
              "      <th>2</th>\n",
              "      <td>2</td>\n",
              "      <td>Delhi</td>\n",
              "      <td>118645</td>\n",
              "      <td>2031</td>\n",
              "      <td>116785</td>\n",
              "      <td>0</td>\n",
              "    </tr>\n",
              "    <tr>\n",
              "      <th>3</th>\n",
              "      <td>3</td>\n",
              "      <td>Karnataka</td>\n",
              "      <td>51422</td>\n",
              "      <td>1235</td>\n",
              "      <td>40356</td>\n",
              "      <td>2</td>\n",
              "    </tr>\n",
              "    <tr>\n",
              "      <th>4</th>\n",
              "      <td>4</td>\n",
              "      <td>Gujarat</td>\n",
              "      <td>45481</td>\n",
              "      <td>1046</td>\n",
              "      <td>42336</td>\n",
              "      <td>1</td>\n",
              "    </tr>\n",
              "    <tr>\n",
              "      <th>5</th>\n",
              "      <td>5</td>\n",
              "      <td>Uttar Pradesh</td>\n",
              "      <td>42023</td>\n",
              "      <td>1022</td>\n",
              "      <td>41956</td>\n",
              "      <td>5</td>\n",
              "    </tr>\n",
              "  </tbody>\n",
              "</table>\n",
              "</div>"
            ],
            "text/plain": [
              "   Unnamed: 0          State  Confimed  Deaths  Recovered  State_N\n",
              "0           0    Maharashtra    284281   11194     158140        3\n",
              "1           1     Tamil Nadu    156369    2568     107416        4\n",
              "2           2          Delhi    118645    2031     116785        0\n",
              "3           3      Karnataka     51422    1235      40356        2\n",
              "4           4        Gujarat     45481    1046      42336        1\n",
              "5           5  Uttar Pradesh     42023    1022      41956        5"
            ]
          },
          "execution_count": 56,
          "metadata": {},
          "output_type": "execute_result"
        }
      ],
      "source": [
        "#LabelEncoder örneği oluşturma\n",
        "labelencoder = LabelEncoder()\n",
        "\n",
        "#Fit_transform ile kategorik değişkenleri sayısal değerler ile etiketleme ve bunu yeni kolonda (State_N) saklama\n",
        "covid19['State_N'] = labelencoder.fit_transform(covid19['State'])\n",
        "\n",
        "#Veri setini ekrana yazırma\n",
        "covid19"
      ]
    },
    {
      "cell_type": "markdown",
      "metadata": {
        "id": "Z-1YZtgjdiiS"
      },
      "source": [
        "<br>\n",
        "<h4>2. Kategori Kodları Yaklaşımı</h4>\n",
        "<ol>\n",
        "<li>Öncelikle nesne tipinde olan State verilerini kategori tipine çeviririz.</li>\n",
        "<li>Kategorilerin kodlarına da <b>covid19['State'].cat.codes</b> ile ulaşabiliriz.</li>\n",
        "</ol>\n",
        "<br>"
      ]
    },
    {
      "cell_type": "code",
      "execution_count": 57,
      "metadata": {
        "colab": {
          "base_uri": "https://localhost:8080/"
        },
        "id": "bIm59Um3drpF",
        "outputId": "61b6fdcb-93d1-4273-b498-4a5ec6964935"
      },
      "outputs": [
        {
          "data": {
            "text/plain": [
              "Unnamed: 0       int64\n",
              "State         category\n",
              "Confimed         int64\n",
              "Deaths           int64\n",
              "Recovered        int64\n",
              "State_N          int64\n",
              "dtype: object"
            ]
          },
          "execution_count": 57,
          "metadata": {},
          "output_type": "execute_result"
        }
      ],
      "source": [
        "covid19['State'] = covid19['State'].astype('category')\n",
        "covid19.dtypes"
      ]
    },
    {
      "cell_type": "code",
      "execution_count": 58,
      "metadata": {
        "colab": {
          "base_uri": "https://localhost:8080/",
          "height": 235
        },
        "id": "23bRUX6mduq_",
        "outputId": "a7aa0c5b-15f7-4b17-b6e3-fd61aeb55441"
      },
      "outputs": [
        {
          "data": {
            "text/html": [
              "<div>\n",
              "<style scoped>\n",
              "    .dataframe tbody tr th:only-of-type {\n",
              "        vertical-align: middle;\n",
              "    }\n",
              "\n",
              "    .dataframe tbody tr th {\n",
              "        vertical-align: top;\n",
              "    }\n",
              "\n",
              "    .dataframe thead th {\n",
              "        text-align: right;\n",
              "    }\n",
              "</style>\n",
              "<table border=\"1\" class=\"dataframe\">\n",
              "  <thead>\n",
              "    <tr style=\"text-align: right;\">\n",
              "      <th></th>\n",
              "      <th>Unnamed: 0</th>\n",
              "      <th>State</th>\n",
              "      <th>Confimed</th>\n",
              "      <th>Deaths</th>\n",
              "      <th>Recovered</th>\n",
              "      <th>State_N</th>\n",
              "    </tr>\n",
              "  </thead>\n",
              "  <tbody>\n",
              "    <tr>\n",
              "      <th>0</th>\n",
              "      <td>0</td>\n",
              "      <td>3</td>\n",
              "      <td>284281</td>\n",
              "      <td>11194</td>\n",
              "      <td>158140</td>\n",
              "      <td>3</td>\n",
              "    </tr>\n",
              "    <tr>\n",
              "      <th>1</th>\n",
              "      <td>1</td>\n",
              "      <td>4</td>\n",
              "      <td>156369</td>\n",
              "      <td>2568</td>\n",
              "      <td>107416</td>\n",
              "      <td>4</td>\n",
              "    </tr>\n",
              "    <tr>\n",
              "      <th>2</th>\n",
              "      <td>2</td>\n",
              "      <td>0</td>\n",
              "      <td>118645</td>\n",
              "      <td>2031</td>\n",
              "      <td>116785</td>\n",
              "      <td>0</td>\n",
              "    </tr>\n",
              "    <tr>\n",
              "      <th>3</th>\n",
              "      <td>3</td>\n",
              "      <td>2</td>\n",
              "      <td>51422</td>\n",
              "      <td>1235</td>\n",
              "      <td>40356</td>\n",
              "      <td>2</td>\n",
              "    </tr>\n",
              "    <tr>\n",
              "      <th>4</th>\n",
              "      <td>4</td>\n",
              "      <td>1</td>\n",
              "      <td>45481</td>\n",
              "      <td>1046</td>\n",
              "      <td>42336</td>\n",
              "      <td>1</td>\n",
              "    </tr>\n",
              "    <tr>\n",
              "      <th>5</th>\n",
              "      <td>5</td>\n",
              "      <td>5</td>\n",
              "      <td>42023</td>\n",
              "      <td>1022</td>\n",
              "      <td>41956</td>\n",
              "      <td>5</td>\n",
              "    </tr>\n",
              "  </tbody>\n",
              "</table>\n",
              "</div>"
            ],
            "text/plain": [
              "   Unnamed: 0  State  Confimed  Deaths  Recovered  State_N\n",
              "0           0      3    284281   11194     158140        3\n",
              "1           1      4    156369    2568     107416        4\n",
              "2           2      0    118645    2031     116785        0\n",
              "3           3      2     51422    1235      40356        2\n",
              "4           4      1     45481    1046      42336        1\n",
              "5           5      5     42023    1022      41956        5"
            ]
          },
          "execution_count": 58,
          "metadata": {},
          "output_type": "execute_result"
        }
      ],
      "source": [
        "covid19['State'] = covid19['State'].cat.codes\n",
        "covid19"
      ]
    },
    {
      "cell_type": "markdown",
      "metadata": {
        "id": "C9y2FTzFdZ3d"
      },
      "source": [
        "<br>\n",
        "Bu işlemlerden sonra potansiyel olarak bir sorun ortaya çıkmaktadır. Genellikle kategorik veriler arasında herhangi bir ilişki bulunmaz fakat bizim öğrenme algoritmalarımız sayılar arasında bir ilişki kurar. Label encoding işlemi sonrasında ise algoritmanın ilişki kurabileceği türden bir etiketleme yaptığını görebiliyoruz. Her bir state için farklı sayısal değerler üretti fakat bu değerler birbirleriyle kıyaslanabilir, dolayısıyla algoritma da kıyaslayacaktır fakat bu etiket değerlerinin State'lere ait olduğunu, kıyaslanamayacağını biz biliyoruz, algoritma bilmiyor. Label Encoding'de ki genel sorun bu.\n",
        "<br>"
      ]
    },
    {
      "cell_type": "markdown",
      "metadata": {
        "id": "vvRFkh9idaMM"
      },
      "source": [
        "<br>\n",
        "<h2>Soru 3</h2>\n",
        "<h3>Imbalance datasette train test split yaparken neleri göz önünde bulundurmalıyız?</h3>\n",
        "\n",
        "Yüzde 90'ı A, yüzde 10'u B etiketi gibi olan dengesiz veri setlerinde train/test splitting adımına dikkat etmemiz gerekmektedir. Dikkat edeceğimiz noktalar:\n",
        "<li>Elimizdeki setleri, test setinin tüm sette aynı oranda sahip olacak şekilde bölmemiz gerekmektedir. Aksi takdirde, tamamen rastgele olacak şekilde test setimiz tamamen A'lardan oluşabilir ve bu durumda modelimiz yalnızca A'ları tahmin edebilir. Doğru oranları düzenlediğimiz takdirde modelimiz B'leri de tahmin edebilir. </li>\n",
        "<li>Eğitim adil olabilmesi için azınlıkta olan sınıfa daha <b>fazla örnekleme (oversampling)</b>, ya da fazlalık olan sınıfa <b>eksik örnekleme (undersampling)</b> yapılabilir.</li>\n",
        "<li>Sadece <b>accuracy</b> değerini değil, aynı zamanda <b>precision</b> ve <b>recall</b> değerlerini de ölçmemiz, bunlara dikkat etmemiz gerekmektedir. Berbat bir model kurduk diyelim ve bu model tüm örneklerin A olduğunu söylüyor. Bu, modelin %90 doğru olduğu anlamına gelmiyor, elindeki verilerin yüzde 90'nı A olduğu için zıt görüş hakkında bilgisi olmuyor. Dolayısıyla ne gelirse gelsin yüzde 90 ihtimalle A olmuş oluyor model için. Bu sebeple elimizde olan diğer metrikler fazlasıyla önem arzediyor ve onları dikkate almamız gerekiyor.</li>\n",
        "<br>"
      ]
    },
    {
      "cell_type": "markdown",
      "metadata": {
        "id": "c5s-HE-Dd65S"
      },
      "source": [
        "<br>\n",
        "<h2>Soru 4</h2>\n",
        "<h3> Validation dataseti (modelin görmediği) nasıl oluşturulur ve nasıl predict etmeye hazır hale getirilir?</h3>\n",
        "\n",
        "Modeli oluşturmak veya ince ayarlar yapmak için modelin kullanılmayan örnekler üzerinde değerlendirilmesi ideal olandır ve bu şekilde tarafsız bir yöntem sağlanmış olur. Validation setindeki bilgilerin, tüm model ayarlamaları tamamlanana kadar saklanması yani, validation setinin kitlenmesi gerekmektedir. Validation seti, en başta hiçbir işlem görmeden önce ayrılmalıdır, daha sonrasında model kurma aşamasında gereken tüm testler, test seti üzerinde gerçekleştirilir. Model kurma aşaması tamamlandıktan sonra son olarak validation seti ile modelin gerçek hayattaki potansiyeli ölçülür. Bu ölçümü yapabilmek için validation setine, train setinden ayrı olarak yine train setine yapılan tüm işlemlerin yapılması gerekmektedir. Burada dikkat edilecek husus ise, train setine yapılan encoding işlemleri sonucunda çıkan veriler ile validation setinde gerçekleştiren encoding işlemi sonucunda çıkan verilerin birbirleriyle uyuşması. Bunun için gerekli yöntemler de gerçekleştirildiği takdirde validation setimiz predict etmeye hazır hale gelmiş olacaktır.\n",
        "<br>"
      ]
    },
    {
      "cell_type": "markdown",
      "metadata": {
        "id": "-g-kyxIneBhi"
      },
      "source": [
        "<br>\n",
        "<h2>Soru 5</h2>\n",
        "<h3>'predict_proba' Metoduyla Oran Nasıl Hesaplanır ve Treshold Nasıl Değiştirilir?</h3>\n",
        "\n",
        "Sınıflandırma, kümeleme, regresyon gibi yöntemlerin kullanıldığı çalışmalarda tahmin edilen etiket bilgisi <b>predict</b> fonksiyonu ile hesaplanırken, sınıflandırma problemlerinde gözlemlerin sınıflara ait olma olasılıkları ise <b>predict_proba</b> fonksiyonu ile hesaplanır.\n",
        "<br>"
      ]
    },
    {
      "cell_type": "code",
      "execution_count": null,
      "metadata": {
        "id": "3vo8rPkleK8u"
      },
      "outputs": [],
      "source": [
        "# dt, DecisionTreeClassifier sınıfından türetilen değişken\n",
        "y_pred_proba = dt.predict_proba(X_test)"
      ]
    },
    {
      "cell_type": "markdown",
      "metadata": {
        "id": "EuN2M6cJeHLb"
      },
      "source": [
        "<br>\n",
        "Yukarıda yer alan örnekteki gibi çalışan predict_proba ile etiketleri değil olasılıkları öğreniriz, çıktıda yer alan veriler de her etikete ait olma yüzdesini içerir. \n",
        "\n",
        "Kullandığımız predict_proba fonksiyonu ile thresold'a istediğimiz bir değeri nasıl verebiliriz onu inceleyelim.\n",
        "<br>"
      ]
    },
    {
      "cell_type": "code",
      "execution_count": null,
      "metadata": {
        "id": "a1Ju3LWheRzK"
      },
      "outputs": [],
      "source": [
        "#Threshold değerini değiştirme\n",
        "y_pred_new_threshold = (model.predict_proba() >= mythreshold).astype(int)"
      ]
    },
    {
      "cell_type": "markdown",
      "metadata": {
        "id": "H2EfuYUueUcQ"
      },
      "source": [
        "<br>\n",
        "Yukarıdaki yer alan kod parçacığını incelediğimizde, predict_proba'nın çıktıları ile ufak bir threshold kontrolü yaparak '>=' istediğimiz threshold değerlerini elde ediyoruz. Fakat burada eksik olan bir şey var, predict_proba fonksiyonunun çıktısı (n_data_rows, n_classes) şeklinde bir dizidir. Eğer yukarıdaki gibi çalıştırırsak hedef sınıfa uygulamış olmayız, o yüzden hedef sınıfı belirtmemiz gerekmektedir (genellikle 1).\n",
        "<br>"
      ]
    },
    {
      "cell_type": "code",
      "execution_count": null,
      "metadata": {
        "id": "cub6e-_Ueaf-"
      },
      "outputs": [],
      "source": [
        "#Threshold değerini değiştirme\n",
        "y_pred_new_threshold = (model.predict_proba()[:,1] >= mythreshold).astype(int)"
      ]
    },
    {
      "cell_type": "markdown",
      "metadata": {
        "id": "R95BgF7HebZA"
      },
      "source": [
        "<br>\n",
        "<h2>Soru 6</h2>\n",
        "<h3 align='justify'>Fraud case'i üzerinde train&test&validation split, encoding, scaling,modelleme çalışmaları Python'da yapılarak, modelin görmediği dataset üzerinde başarılı sonuç alacak bir model örneği yapılmalı.</h3>"
      ]
    },
    {
      "cell_type": "code",
      "execution_count": 15,
      "metadata": {
        "id": "qNffBVpAlp6f"
      },
      "outputs": [],
      "source": [
        "import pandas as pd\n",
        "import numpy as np\n",
        "import datetime as dt\n",
        "\n",
        "#for quick viz\n",
        "import seaborn as sns\n",
        "\n",
        "#ml\n",
        "from sklearn.model_selection import train_test_split\n",
        "from sklearn.linear_model import LogisticRegression\n",
        "from sklearn.metrics import classification_report\n",
        "from sklearn.tree import DecisionTreeClassifier\n",
        "from sklearn.metrics import accuracy_score\n",
        "from sklearn.model_selection import GridSearchCV\n",
        "from sklearn.svm import SVC\n",
        "from sklearn.metrics import confusion_matrix\n",
        "\n",
        "from imblearn.over_sampling import SMOTE\n",
        "from imblearn.under_sampling import RandomUnderSampler\n",
        "from imblearn.pipeline import Pipeline\n",
        "from sklearn.ensemble import RandomForestClassifier\n",
        "from sklearn.preprocessing import LabelEncoder,OneHotEncoder,StandardScaler\n",
        "from sklearn.model_selection import RandomizedSearchCV\n",
        "import random"
      ]
    },
    {
      "cell_type": "code",
      "execution_count": 16,
      "metadata": {
        "id": "K2aWN0EtlstJ"
      },
      "outputs": [],
      "source": [
        "df = pd.read_csv('/var/auto_insurance_csv.csv')\n",
        "df = df.drop(['_c39','Unnamed: 0'], axis = 1)\n",
        "df['umbrella_limit'] = df.umbrella_limit.fillna(\"9999\")\n",
        "df['police_report_available'] = df.police_report_available.fillna(\"MISSING\")\n",
        "df['policy_csl'] = df.policy_csl.fillna(\"MISSING\")\n",
        "df['policy_bind_date'] = pd.to_datetime(df['policy_bind_date'])\n",
        "df['incident_date'] = pd.to_datetime(df['incident_date'])\n",
        "df['claim_day_of_policy'] = (df.incident_date -  df.policy_bind_date).dt.days\n",
        "df['location_check'] = np.nan\n",
        "df['location_check'] = np.where(df['policy_state'] == df['incident_state'], True, False)\n",
        "df['fraud_reported'] = df['fraud_reported'].str.replace('Y', '1')\n",
        "df['fraud_reported'] = df['fraud_reported'].str.replace('N', '0')\n",
        "df['fraud_reported'] = df['fraud_reported'].astype(int)\n",
        "df['umbrella_limit'] = df.umbrella_limit.astype(str)\n",
        "umbrealla = df['umbrella_limit'].unique()\n",
        "for umb in umbrealla:\n",
        "  if (umb != '0.0') & (umb != '9999'):\n",
        "    df['umbrella_limit'] = df['umbrella_limit'].str.replace(umb, 'other')\n",
        "    \n",
        "hobbies = df['insured_hobbies'].unique()\n",
        "for hobby in hobbies:\n",
        "  if (hobby != 'chess') & (hobby != 'cross-fit'):\n",
        "    df['insured_hobbies'] = df['insured_hobbies'].str.replace(hobby, 'other')\n",
        "\n",
        "df['age'] = df.age.fillna(9999)\n",
        "bin_labels = ['15-20', '21-25', '26-30', '31-35', '36-40', '41-45', '46-50', '51-55', '56-60', '61-65','9999']\n",
        "bins = [15, 20, 25, 30, 35, 40, 45, 50, 55, 60, 65, 9999]\n",
        "\n",
        "df['age_group'] = pd.cut(df['age'], bins = bins, labels = bin_labels, include_lowest = True)\n",
        "bins = [0, 50, 100, 150, 200, 250, 300, 350, 400, 450, 500]\n",
        "bin_labels = ['0-50','51-100','101-150','151-200','201-250','251-300','301-350','351-400','401-450','451-500']\n",
        "\n",
        "df['months_as_customer_groups'] = pd.cut(df['months_as_customer'], bins = 10, labels = bin_labels, include_lowest= True)\n",
        "bins = list(np.linspace(0,2500, 6, dtype = int))\n",
        "bin_labels = ['very low', 'low', 'medium', 'high', 'very high']\n",
        "\n",
        "df['policy_annual_premium_groups'] = pd.cut(df['policy_annual_premium'], bins = bins, labels=bin_labels)\n",
        "bins = list(np.linspace(0,2000, 5, dtype = int))\n",
        "bin_labels = ['0-500', '501-1000', '1001-1500', '1501-2000']\n",
        "\n",
        "df['policy_deductable_group'] = pd.cut(df['policy_deductable'], bins = bins, labels = bin_labels)\n",
        "\n",
        "df = df.drop(['age', 'months_as_customer', 'policy_deductable', 'policy_annual_premium'], axis = 1)\n",
        "required_columns = ['incident_date','policy_state', 'policy_csl', 'umbrella_limit',\n",
        "       'insured_zip', 'insured_sex', 'insured_education_level',\n",
        "       'insured_occupation', 'insured_hobbies', 'insured_relationship',\n",
        "       'capital-gains', 'capital-loss', 'incident_type', 'collision_type',\n",
        "       'incident_severity', 'authorities_contacted', 'incident_state',\n",
        "       'incident_city', 'incident_location', 'incident_hour_of_the_day',\n",
        "       'number_of_vehicles_involved', 'property_damage', 'bodily_injuries',\n",
        "       'witnesses', 'police_report_available', 'total_claim_amount','auto_make',\n",
        "       'auto_model', 'auto_year', 'fraud_reported', 'claim_day_of_policy',\n",
        "       'location_check', 'age_group', 'months_as_customer_groups',\n",
        "       'policy_annual_premium_groups', 'policy_deductable_group']\n",
        "df1 = df[required_columns]"
      ]
    },
    {
      "cell_type": "code",
      "execution_count": 18,
      "metadata": {
        "colab": {
          "base_uri": "https://localhost:8080/"
        },
        "id": "Rve1N-S1mveK",
        "outputId": "a62d88e9-c2fc-4e88-eae0-5a6a557abfa5"
      },
      "outputs": [
        {
          "data": {
            "text/plain": [
              "1000"
            ]
          },
          "execution_count": 18,
          "metadata": {},
          "output_type": "execute_result"
        }
      ],
      "source": [
        "df1.incident_date.count()"
      ]
    },
    {
      "cell_type": "code",
      "execution_count": 19,
      "metadata": {
        "id": "7P2L12Nlm0IH"
      },
      "outputs": [],
      "source": [
        "# Validation ve model setlerinin belirlenmesi\n",
        "df1_val = df1.sort_values(by='incident_date',ascending=False).head(200)\n",
        "df1_model = df1.sort_values(by='incident_date',ascending=False).tail(800)\n",
        "\n",
        "# Gereksiz iki kolonun temizlenmesi\n",
        "df1_val = df1_val.drop([\"incident_date\"],axis=1)\n",
        "df1_model = df1_model.drop([\"incident_date\"],axis=1)\n",
        "df1_val = df1_val.drop([\"incident_location\"],axis=1)\n",
        "df1_model = df1_model.drop([\"incident_location\"],axis=1)\n",
        "\n",
        "# Kategorik kolonların belirlenmesi\n",
        "cat_cols = ['age_group', 'months_as_customer_groups', 'policy_annual_premium_groups','location_check','policy_deductable_group']\n",
        "for col in cat_cols:\n",
        "  df1_model[col] = df1_model[col].astype('object')\n",
        "\n",
        "#Encode edilecek olan kolonların oluşturulan listeye kaydedilmesi\n",
        "columns_to_encode = []\n",
        "for col in df1_model.columns:\n",
        "  if df1_model[col].dtype == 'object':\n",
        "    columns_to_encode.append(col)\n",
        "\n",
        "#Kategorik değişkenler üzerinde dummy dönüşümü gerçekleştirimi\n",
        "df1_model_dummy = pd.get_dummies(df1_model, columns = columns_to_encode)\n",
        "columns_dummy = []\n",
        "for i in df1_model_dummy.columns:\n",
        "    columns_dummy.append(i)\n",
        "\n",
        "df1_dummy = df1_model_dummy.iloc[:,:11]\n",
        "clmn_dummy= columns_dummy[11:]"
      ]
    },
    {
      "cell_type": "markdown",
      "metadata": {
        "id": "eXONwZ8_pXfc"
      },
      "source": [
        "<br>\n",
        "Yukarıda model kuracağımız set ile validation setini ilk olarak ayırıyoruz. Validation setimizi kitleyerek, model için hazırladığımız veriler üzerinden kategorik verileri tespit ediyoruz, bu verilere sonrasında one-hot dönüşümü yapılacak.\n",
        "<br>"
      ]
    },
    {
      "cell_type": "code",
      "execution_count": 20,
      "metadata": {
        "colab": {
          "base_uri": "https://localhost:8080/",
          "height": 549
        },
        "id": "LO2-_NKeMNq7",
        "outputId": "ad0e2062-1087-4007-ba53-af922d260c01"
      },
      "outputs": [
        {
          "data": {
            "text/html": [
              "<div>\n",
              "<style scoped>\n",
              "    .dataframe tbody tr th:only-of-type {\n",
              "        vertical-align: middle;\n",
              "    }\n",
              "\n",
              "    .dataframe tbody tr th {\n",
              "        vertical-align: top;\n",
              "    }\n",
              "\n",
              "    .dataframe thead th {\n",
              "        text-align: right;\n",
              "    }\n",
              "</style>\n",
              "<table border=\"1\" class=\"dataframe\">\n",
              "  <thead>\n",
              "    <tr style=\"text-align: right;\">\n",
              "      <th></th>\n",
              "      <th>insured_zip</th>\n",
              "      <th>capital-gains</th>\n",
              "      <th>capital-loss</th>\n",
              "      <th>incident_hour_of_the_day</th>\n",
              "      <th>number_of_vehicles_involved</th>\n",
              "      <th>bodily_injuries</th>\n",
              "      <th>witnesses</th>\n",
              "      <th>total_claim_amount</th>\n",
              "      <th>auto_year</th>\n",
              "      <th>fraud_reported</th>\n",
              "      <th>claim_day_of_policy</th>\n",
              "      <th>policy_state_IL</th>\n",
              "      <th>policy_state_IN</th>\n",
              "      <th>policy_state_OH</th>\n",
              "      <th>policy_csl_100/300</th>\n",
              "      <th>policy_csl_250/500</th>\n",
              "      <th>policy_csl_500/1000</th>\n",
              "      <th>policy_csl_MISSING</th>\n",
              "      <th>umbrella_limit_0.0</th>\n",
              "      <th>umbrella_limit_9999</th>\n",
              "      <th>umbrella_limit_other</th>\n",
              "      <th>insured_sex_FEMALE</th>\n",
              "      <th>insured_sex_MALE</th>\n",
              "      <th>insured_education_level_Associate</th>\n",
              "      <th>insured_education_level_College</th>\n",
              "      <th>insured_education_level_High School</th>\n",
              "      <th>insured_education_level_JD</th>\n",
              "      <th>insured_education_level_MD</th>\n",
              "      <th>insured_education_level_Masters</th>\n",
              "      <th>insured_education_level_PhD</th>\n",
              "      <th>insured_occupation_adm-clerical</th>\n",
              "      <th>insured_occupation_armed-forces</th>\n",
              "      <th>insured_occupation_craft-repair</th>\n",
              "      <th>insured_occupation_exec-managerial</th>\n",
              "      <th>insured_occupation_farming-fishing</th>\n",
              "      <th>insured_occupation_handlers-cleaners</th>\n",
              "      <th>insured_occupation_machine-op-inspct</th>\n",
              "      <th>insured_occupation_other-service</th>\n",
              "      <th>insured_occupation_priv-house-serv</th>\n",
              "      <th>insured_occupation_prof-specialty</th>\n",
              "      <th>...</th>\n",
              "      <th>auto_model_RAM</th>\n",
              "      <th>auto_model_RSX</th>\n",
              "      <th>auto_model_Silverado</th>\n",
              "      <th>auto_model_TL</th>\n",
              "      <th>auto_model_Tahoe</th>\n",
              "      <th>auto_model_Ultima</th>\n",
              "      <th>auto_model_Wrangler</th>\n",
              "      <th>auto_model_X5</th>\n",
              "      <th>auto_model_X6</th>\n",
              "      <th>location_check_False</th>\n",
              "      <th>location_check_True</th>\n",
              "      <th>age_group_15-20</th>\n",
              "      <th>age_group_21-25</th>\n",
              "      <th>age_group_26-30</th>\n",
              "      <th>age_group_31-35</th>\n",
              "      <th>age_group_36-40</th>\n",
              "      <th>age_group_41-45</th>\n",
              "      <th>age_group_46-50</th>\n",
              "      <th>age_group_51-55</th>\n",
              "      <th>age_group_56-60</th>\n",
              "      <th>age_group_61-65</th>\n",
              "      <th>age_group_9999</th>\n",
              "      <th>months_as_customer_groups_0-50</th>\n",
              "      <th>months_as_customer_groups_101-150</th>\n",
              "      <th>months_as_customer_groups_151-200</th>\n",
              "      <th>months_as_customer_groups_201-250</th>\n",
              "      <th>months_as_customer_groups_251-300</th>\n",
              "      <th>months_as_customer_groups_301-350</th>\n",
              "      <th>months_as_customer_groups_351-400</th>\n",
              "      <th>months_as_customer_groups_401-450</th>\n",
              "      <th>months_as_customer_groups_451-500</th>\n",
              "      <th>months_as_customer_groups_51-100</th>\n",
              "      <th>policy_annual_premium_groups_high</th>\n",
              "      <th>policy_annual_premium_groups_low</th>\n",
              "      <th>policy_annual_premium_groups_medium</th>\n",
              "      <th>policy_annual_premium_groups_very high</th>\n",
              "      <th>policy_annual_premium_groups_very low</th>\n",
              "      <th>policy_deductable_group_0-500</th>\n",
              "      <th>policy_deductable_group_1501-2000</th>\n",
              "      <th>policy_deductable_group_501-1000</th>\n",
              "    </tr>\n",
              "  </thead>\n",
              "  <tbody>\n",
              "    <tr>\n",
              "      <th>0</th>\n",
              "      <td>446755</td>\n",
              "      <td>0</td>\n",
              "      <td>-46200</td>\n",
              "      <td>9</td>\n",
              "      <td>1</td>\n",
              "      <td>2</td>\n",
              "      <td>3</td>\n",
              "      <td>6560</td>\n",
              "      <td>2003</td>\n",
              "      <td>0</td>\n",
              "      <td>4427</td>\n",
              "      <td>0.0</td>\n",
              "      <td>0.0</td>\n",
              "      <td>1.0</td>\n",
              "      <td>0.0</td>\n",
              "      <td>0.0</td>\n",
              "      <td>0.0</td>\n",
              "      <td>1.0</td>\n",
              "      <td>1.0</td>\n",
              "      <td>0.0</td>\n",
              "      <td>0.0</td>\n",
              "      <td>1.0</td>\n",
              "      <td>0.0</td>\n",
              "      <td>0.0</td>\n",
              "      <td>0.0</td>\n",
              "      <td>0.0</td>\n",
              "      <td>1.0</td>\n",
              "      <td>0.0</td>\n",
              "      <td>0.0</td>\n",
              "      <td>0.0</td>\n",
              "      <td>0.0</td>\n",
              "      <td>0.0</td>\n",
              "      <td>0.0</td>\n",
              "      <td>0.0</td>\n",
              "      <td>0.0</td>\n",
              "      <td>0.0</td>\n",
              "      <td>0.0</td>\n",
              "      <td>0.0</td>\n",
              "      <td>0.0</td>\n",
              "      <td>0.0</td>\n",
              "      <td>...</td>\n",
              "      <td>0.0</td>\n",
              "      <td>0.0</td>\n",
              "      <td>0.0</td>\n",
              "      <td>0.0</td>\n",
              "      <td>0.0</td>\n",
              "      <td>0.0</td>\n",
              "      <td>0.0</td>\n",
              "      <td>0.0</td>\n",
              "      <td>0.0</td>\n",
              "      <td>1.0</td>\n",
              "      <td>0.0</td>\n",
              "      <td>0.0</td>\n",
              "      <td>0.0</td>\n",
              "      <td>0.0</td>\n",
              "      <td>0.0</td>\n",
              "      <td>0.0</td>\n",
              "      <td>0.0</td>\n",
              "      <td>1.0</td>\n",
              "      <td>0.0</td>\n",
              "      <td>0.0</td>\n",
              "      <td>0.0</td>\n",
              "      <td>0.0</td>\n",
              "      <td>0.0</td>\n",
              "      <td>0.0</td>\n",
              "      <td>0.0</td>\n",
              "      <td>0.0</td>\n",
              "      <td>1.0</td>\n",
              "      <td>0.0</td>\n",
              "      <td>0.0</td>\n",
              "      <td>0.0</td>\n",
              "      <td>0.0</td>\n",
              "      <td>0.0</td>\n",
              "      <td>0.0</td>\n",
              "      <td>0.0</td>\n",
              "      <td>1.0</td>\n",
              "      <td>0.0</td>\n",
              "      <td>0.0</td>\n",
              "      <td>0.0</td>\n",
              "      <td>0.0</td>\n",
              "      <td>1.0</td>\n",
              "    </tr>\n",
              "    <tr>\n",
              "      <th>1</th>\n",
              "      <td>475891</td>\n",
              "      <td>0</td>\n",
              "      <td>0</td>\n",
              "      <td>6</td>\n",
              "      <td>1</td>\n",
              "      <td>1</td>\n",
              "      <td>3</td>\n",
              "      <td>6000</td>\n",
              "      <td>2000</td>\n",
              "      <td>0</td>\n",
              "      <td>8921</td>\n",
              "      <td>0.0</td>\n",
              "      <td>1.0</td>\n",
              "      <td>0.0</td>\n",
              "      <td>0.0</td>\n",
              "      <td>0.0</td>\n",
              "      <td>0.0</td>\n",
              "      <td>1.0</td>\n",
              "      <td>1.0</td>\n",
              "      <td>0.0</td>\n",
              "      <td>0.0</td>\n",
              "      <td>0.0</td>\n",
              "      <td>1.0</td>\n",
              "      <td>0.0</td>\n",
              "      <td>0.0</td>\n",
              "      <td>0.0</td>\n",
              "      <td>0.0</td>\n",
              "      <td>1.0</td>\n",
              "      <td>0.0</td>\n",
              "      <td>0.0</td>\n",
              "      <td>0.0</td>\n",
              "      <td>0.0</td>\n",
              "      <td>0.0</td>\n",
              "      <td>0.0</td>\n",
              "      <td>0.0</td>\n",
              "      <td>0.0</td>\n",
              "      <td>0.0</td>\n",
              "      <td>0.0</td>\n",
              "      <td>1.0</td>\n",
              "      <td>0.0</td>\n",
              "      <td>...</td>\n",
              "      <td>0.0</td>\n",
              "      <td>0.0</td>\n",
              "      <td>0.0</td>\n",
              "      <td>0.0</td>\n",
              "      <td>0.0</td>\n",
              "      <td>0.0</td>\n",
              "      <td>0.0</td>\n",
              "      <td>0.0</td>\n",
              "      <td>0.0</td>\n",
              "      <td>1.0</td>\n",
              "      <td>0.0</td>\n",
              "      <td>0.0</td>\n",
              "      <td>0.0</td>\n",
              "      <td>0.0</td>\n",
              "      <td>1.0</td>\n",
              "      <td>0.0</td>\n",
              "      <td>0.0</td>\n",
              "      <td>0.0</td>\n",
              "      <td>0.0</td>\n",
              "      <td>0.0</td>\n",
              "      <td>0.0</td>\n",
              "      <td>0.0</td>\n",
              "      <td>1.0</td>\n",
              "      <td>0.0</td>\n",
              "      <td>0.0</td>\n",
              "      <td>0.0</td>\n",
              "      <td>0.0</td>\n",
              "      <td>0.0</td>\n",
              "      <td>0.0</td>\n",
              "      <td>0.0</td>\n",
              "      <td>0.0</td>\n",
              "      <td>0.0</td>\n",
              "      <td>0.0</td>\n",
              "      <td>0.0</td>\n",
              "      <td>1.0</td>\n",
              "      <td>0.0</td>\n",
              "      <td>0.0</td>\n",
              "      <td>1.0</td>\n",
              "      <td>0.0</td>\n",
              "      <td>0.0</td>\n",
              "    </tr>\n",
              "    <tr>\n",
              "      <th>2</th>\n",
              "      <td>603948</td>\n",
              "      <td>47200</td>\n",
              "      <td>-69700</td>\n",
              "      <td>12</td>\n",
              "      <td>3</td>\n",
              "      <td>2</td>\n",
              "      <td>3</td>\n",
              "      <td>36300</td>\n",
              "      <td>2013</td>\n",
              "      <td>0</td>\n",
              "      <td>205</td>\n",
              "      <td>0.0</td>\n",
              "      <td>1.0</td>\n",
              "      <td>0.0</td>\n",
              "      <td>0.0</td>\n",
              "      <td>0.0</td>\n",
              "      <td>0.0</td>\n",
              "      <td>1.0</td>\n",
              "      <td>0.0</td>\n",
              "      <td>0.0</td>\n",
              "      <td>1.0</td>\n",
              "      <td>0.0</td>\n",
              "      <td>1.0</td>\n",
              "      <td>0.0</td>\n",
              "      <td>0.0</td>\n",
              "      <td>0.0</td>\n",
              "      <td>1.0</td>\n",
              "      <td>0.0</td>\n",
              "      <td>0.0</td>\n",
              "      <td>0.0</td>\n",
              "      <td>0.0</td>\n",
              "      <td>0.0</td>\n",
              "      <td>1.0</td>\n",
              "      <td>0.0</td>\n",
              "      <td>0.0</td>\n",
              "      <td>0.0</td>\n",
              "      <td>0.0</td>\n",
              "      <td>0.0</td>\n",
              "      <td>0.0</td>\n",
              "      <td>0.0</td>\n",
              "      <td>...</td>\n",
              "      <td>0.0</td>\n",
              "      <td>0.0</td>\n",
              "      <td>0.0</td>\n",
              "      <td>0.0</td>\n",
              "      <td>0.0</td>\n",
              "      <td>0.0</td>\n",
              "      <td>0.0</td>\n",
              "      <td>0.0</td>\n",
              "      <td>0.0</td>\n",
              "      <td>1.0</td>\n",
              "      <td>0.0</td>\n",
              "      <td>0.0</td>\n",
              "      <td>0.0</td>\n",
              "      <td>0.0</td>\n",
              "      <td>0.0</td>\n",
              "      <td>1.0</td>\n",
              "      <td>0.0</td>\n",
              "      <td>0.0</td>\n",
              "      <td>0.0</td>\n",
              "      <td>0.0</td>\n",
              "      <td>0.0</td>\n",
              "      <td>0.0</td>\n",
              "      <td>0.0</td>\n",
              "      <td>0.0</td>\n",
              "      <td>0.0</td>\n",
              "      <td>1.0</td>\n",
              "      <td>0.0</td>\n",
              "      <td>0.0</td>\n",
              "      <td>0.0</td>\n",
              "      <td>0.0</td>\n",
              "      <td>0.0</td>\n",
              "      <td>0.0</td>\n",
              "      <td>0.0</td>\n",
              "      <td>0.0</td>\n",
              "      <td>1.0</td>\n",
              "      <td>0.0</td>\n",
              "      <td>0.0</td>\n",
              "      <td>0.0</td>\n",
              "      <td>0.0</td>\n",
              "      <td>1.0</td>\n",
              "    </tr>\n",
              "    <tr>\n",
              "      <th>3</th>\n",
              "      <td>462525</td>\n",
              "      <td>26500</td>\n",
              "      <td>0</td>\n",
              "      <td>23</td>\n",
              "      <td>3</td>\n",
              "      <td>0</td>\n",
              "      <td>3</td>\n",
              "      <td>55200</td>\n",
              "      <td>1998</td>\n",
              "      <td>1</td>\n",
              "      <td>1980</td>\n",
              "      <td>1.0</td>\n",
              "      <td>0.0</td>\n",
              "      <td>0.0</td>\n",
              "      <td>0.0</td>\n",
              "      <td>0.0</td>\n",
              "      <td>0.0</td>\n",
              "      <td>1.0</td>\n",
              "      <td>1.0</td>\n",
              "      <td>0.0</td>\n",
              "      <td>0.0</td>\n",
              "      <td>0.0</td>\n",
              "      <td>1.0</td>\n",
              "      <td>0.0</td>\n",
              "      <td>0.0</td>\n",
              "      <td>1.0</td>\n",
              "      <td>0.0</td>\n",
              "      <td>0.0</td>\n",
              "      <td>0.0</td>\n",
              "      <td>0.0</td>\n",
              "      <td>0.0</td>\n",
              "      <td>1.0</td>\n",
              "      <td>0.0</td>\n",
              "      <td>0.0</td>\n",
              "      <td>0.0</td>\n",
              "      <td>0.0</td>\n",
              "      <td>0.0</td>\n",
              "      <td>0.0</td>\n",
              "      <td>0.0</td>\n",
              "      <td>0.0</td>\n",
              "      <td>...</td>\n",
              "      <td>0.0</td>\n",
              "      <td>0.0</td>\n",
              "      <td>0.0</td>\n",
              "      <td>0.0</td>\n",
              "      <td>0.0</td>\n",
              "      <td>0.0</td>\n",
              "      <td>0.0</td>\n",
              "      <td>0.0</td>\n",
              "      <td>0.0</td>\n",
              "      <td>1.0</td>\n",
              "      <td>0.0</td>\n",
              "      <td>0.0</td>\n",
              "      <td>0.0</td>\n",
              "      <td>0.0</td>\n",
              "      <td>0.0</td>\n",
              "      <td>1.0</td>\n",
              "      <td>0.0</td>\n",
              "      <td>0.0</td>\n",
              "      <td>0.0</td>\n",
              "      <td>0.0</td>\n",
              "      <td>0.0</td>\n",
              "      <td>0.0</td>\n",
              "      <td>0.0</td>\n",
              "      <td>0.0</td>\n",
              "      <td>1.0</td>\n",
              "      <td>0.0</td>\n",
              "      <td>0.0</td>\n",
              "      <td>0.0</td>\n",
              "      <td>0.0</td>\n",
              "      <td>0.0</td>\n",
              "      <td>0.0</td>\n",
              "      <td>0.0</td>\n",
              "      <td>0.0</td>\n",
              "      <td>0.0</td>\n",
              "      <td>1.0</td>\n",
              "      <td>0.0</td>\n",
              "      <td>0.0</td>\n",
              "      <td>1.0</td>\n",
              "      <td>0.0</td>\n",
              "      <td>0.0</td>\n",
              "    </tr>\n",
              "    <tr>\n",
              "      <th>4</th>\n",
              "      <td>471366</td>\n",
              "      <td>0</td>\n",
              "      <td>-31700</td>\n",
              "      <td>0</td>\n",
              "      <td>1</td>\n",
              "      <td>2</td>\n",
              "      <td>1</td>\n",
              "      <td>48290</td>\n",
              "      <td>1995</td>\n",
              "      <td>0</td>\n",
              "      <td>7692</td>\n",
              "      <td>0.0</td>\n",
              "      <td>1.0</td>\n",
              "      <td>0.0</td>\n",
              "      <td>0.0</td>\n",
              "      <td>0.0</td>\n",
              "      <td>0.0</td>\n",
              "      <td>1.0</td>\n",
              "      <td>1.0</td>\n",
              "      <td>0.0</td>\n",
              "      <td>0.0</td>\n",
              "      <td>0.0</td>\n",
              "      <td>1.0</td>\n",
              "      <td>1.0</td>\n",
              "      <td>0.0</td>\n",
              "      <td>0.0</td>\n",
              "      <td>0.0</td>\n",
              "      <td>0.0</td>\n",
              "      <td>0.0</td>\n",
              "      <td>0.0</td>\n",
              "      <td>1.0</td>\n",
              "      <td>0.0</td>\n",
              "      <td>0.0</td>\n",
              "      <td>0.0</td>\n",
              "      <td>0.0</td>\n",
              "      <td>0.0</td>\n",
              "      <td>0.0</td>\n",
              "      <td>0.0</td>\n",
              "      <td>0.0</td>\n",
              "      <td>0.0</td>\n",
              "      <td>...</td>\n",
              "      <td>0.0</td>\n",
              "      <td>0.0</td>\n",
              "      <td>0.0</td>\n",
              "      <td>0.0</td>\n",
              "      <td>0.0</td>\n",
              "      <td>0.0</td>\n",
              "      <td>0.0</td>\n",
              "      <td>0.0</td>\n",
              "      <td>0.0</td>\n",
              "      <td>1.0</td>\n",
              "      <td>0.0</td>\n",
              "      <td>0.0</td>\n",
              "      <td>0.0</td>\n",
              "      <td>1.0</td>\n",
              "      <td>0.0</td>\n",
              "      <td>0.0</td>\n",
              "      <td>0.0</td>\n",
              "      <td>0.0</td>\n",
              "      <td>0.0</td>\n",
              "      <td>0.0</td>\n",
              "      <td>0.0</td>\n",
              "      <td>0.0</td>\n",
              "      <td>0.0</td>\n",
              "      <td>0.0</td>\n",
              "      <td>0.0</td>\n",
              "      <td>0.0</td>\n",
              "      <td>0.0</td>\n",
              "      <td>0.0</td>\n",
              "      <td>0.0</td>\n",
              "      <td>0.0</td>\n",
              "      <td>0.0</td>\n",
              "      <td>1.0</td>\n",
              "      <td>0.0</td>\n",
              "      <td>0.0</td>\n",
              "      <td>1.0</td>\n",
              "      <td>0.0</td>\n",
              "      <td>0.0</td>\n",
              "      <td>0.0</td>\n",
              "      <td>1.0</td>\n",
              "      <td>0.0</td>\n",
              "    </tr>\n",
              "    <tr>\n",
              "      <th>5</th>\n",
              "      <td>604328</td>\n",
              "      <td>0</td>\n",
              "      <td>-47400</td>\n",
              "      <td>7</td>\n",
              "      <td>1</td>\n",
              "      <td>0</td>\n",
              "      <td>1</td>\n",
              "      <td>3190</td>\n",
              "      <td>2015</td>\n",
              "      <td>0</td>\n",
              "      <td>8231</td>\n",
              "      <td>0.0</td>\n",
              "      <td>0.0</td>\n",
              "      <td>1.0</td>\n",
              "      <td>0.0</td>\n",
              "      <td>0.0</td>\n",
              "      <td>0.0</td>\n",
              "      <td>1.0</td>\n",
              "      <td>1.0</td>\n",
              "      <td>0.0</td>\n",
              "      <td>0.0</td>\n",
              "      <td>1.0</td>\n",
              "      <td>0.0</td>\n",
              "      <td>0.0</td>\n",
              "      <td>0.0</td>\n",
              "      <td>1.0</td>\n",
              "      <td>0.0</td>\n",
              "      <td>0.0</td>\n",
              "      <td>0.0</td>\n",
              "      <td>0.0</td>\n",
              "      <td>0.0</td>\n",
              "      <td>0.0</td>\n",
              "      <td>0.0</td>\n",
              "      <td>0.0</td>\n",
              "      <td>0.0</td>\n",
              "      <td>0.0</td>\n",
              "      <td>0.0</td>\n",
              "      <td>0.0</td>\n",
              "      <td>0.0</td>\n",
              "      <td>1.0</td>\n",
              "      <td>...</td>\n",
              "      <td>0.0</td>\n",
              "      <td>0.0</td>\n",
              "      <td>0.0</td>\n",
              "      <td>0.0</td>\n",
              "      <td>0.0</td>\n",
              "      <td>0.0</td>\n",
              "      <td>0.0</td>\n",
              "      <td>0.0</td>\n",
              "      <td>0.0</td>\n",
              "      <td>1.0</td>\n",
              "      <td>0.0</td>\n",
              "      <td>0.0</td>\n",
              "      <td>0.0</td>\n",
              "      <td>1.0</td>\n",
              "      <td>0.0</td>\n",
              "      <td>0.0</td>\n",
              "      <td>0.0</td>\n",
              "      <td>0.0</td>\n",
              "      <td>0.0</td>\n",
              "      <td>0.0</td>\n",
              "      <td>0.0</td>\n",
              "      <td>0.0</td>\n",
              "      <td>1.0</td>\n",
              "      <td>0.0</td>\n",
              "      <td>0.0</td>\n",
              "      <td>0.0</td>\n",
              "      <td>0.0</td>\n",
              "      <td>0.0</td>\n",
              "      <td>0.0</td>\n",
              "      <td>0.0</td>\n",
              "      <td>0.0</td>\n",
              "      <td>0.0</td>\n",
              "      <td>0.0</td>\n",
              "      <td>0.0</td>\n",
              "      <td>1.0</td>\n",
              "      <td>0.0</td>\n",
              "      <td>0.0</td>\n",
              "      <td>1.0</td>\n",
              "      <td>0.0</td>\n",
              "      <td>0.0</td>\n",
              "    </tr>\n",
              "    <tr>\n",
              "      <th>6</th>\n",
              "      <td>438546</td>\n",
              "      <td>0</td>\n",
              "      <td>-54600</td>\n",
              "      <td>13</td>\n",
              "      <td>1</td>\n",
              "      <td>1</td>\n",
              "      <td>2</td>\n",
              "      <td>72120</td>\n",
              "      <td>2009</td>\n",
              "      <td>0</td>\n",
              "      <td>3483</td>\n",
              "      <td>0.0</td>\n",
              "      <td>1.0</td>\n",
              "      <td>0.0</td>\n",
              "      <td>0.0</td>\n",
              "      <td>0.0</td>\n",
              "      <td>0.0</td>\n",
              "      <td>1.0</td>\n",
              "      <td>1.0</td>\n",
              "      <td>0.0</td>\n",
              "      <td>0.0</td>\n",
              "      <td>1.0</td>\n",
              "      <td>0.0</td>\n",
              "      <td>1.0</td>\n",
              "      <td>0.0</td>\n",
              "      <td>0.0</td>\n",
              "      <td>0.0</td>\n",
              "      <td>0.0</td>\n",
              "      <td>0.0</td>\n",
              "      <td>0.0</td>\n",
              "      <td>0.0</td>\n",
              "      <td>0.0</td>\n",
              "      <td>0.0</td>\n",
              "      <td>0.0</td>\n",
              "      <td>0.0</td>\n",
              "      <td>0.0</td>\n",
              "      <td>0.0</td>\n",
              "      <td>0.0</td>\n",
              "      <td>0.0</td>\n",
              "      <td>1.0</td>\n",
              "      <td>...</td>\n",
              "      <td>0.0</td>\n",
              "      <td>0.0</td>\n",
              "      <td>0.0</td>\n",
              "      <td>0.0</td>\n",
              "      <td>0.0</td>\n",
              "      <td>0.0</td>\n",
              "      <td>0.0</td>\n",
              "      <td>0.0</td>\n",
              "      <td>0.0</td>\n",
              "      <td>1.0</td>\n",
              "      <td>0.0</td>\n",
              "      <td>0.0</td>\n",
              "      <td>0.0</td>\n",
              "      <td>0.0</td>\n",
              "      <td>1.0</td>\n",
              "      <td>0.0</td>\n",
              "      <td>0.0</td>\n",
              "      <td>0.0</td>\n",
              "      <td>0.0</td>\n",
              "      <td>0.0</td>\n",
              "      <td>0.0</td>\n",
              "      <td>0.0</td>\n",
              "      <td>0.0</td>\n",
              "      <td>1.0</td>\n",
              "      <td>0.0</td>\n",
              "      <td>0.0</td>\n",
              "      <td>0.0</td>\n",
              "      <td>0.0</td>\n",
              "      <td>0.0</td>\n",
              "      <td>0.0</td>\n",
              "      <td>0.0</td>\n",
              "      <td>0.0</td>\n",
              "      <td>0.0</td>\n",
              "      <td>0.0</td>\n",
              "      <td>1.0</td>\n",
              "      <td>0.0</td>\n",
              "      <td>0.0</td>\n",
              "      <td>1.0</td>\n",
              "      <td>0.0</td>\n",
              "      <td>0.0</td>\n",
              "    </tr>\n",
              "    <tr>\n",
              "      <th>7</th>\n",
              "      <td>431354</td>\n",
              "      <td>0</td>\n",
              "      <td>0</td>\n",
              "      <td>21</td>\n",
              "      <td>3</td>\n",
              "      <td>1</td>\n",
              "      <td>3</td>\n",
              "      <td>48070</td>\n",
              "      <td>2014</td>\n",
              "      <td>0</td>\n",
              "      <td>2591</td>\n",
              "      <td>1.0</td>\n",
              "      <td>0.0</td>\n",
              "      <td>0.0</td>\n",
              "      <td>0.0</td>\n",
              "      <td>0.0</td>\n",
              "      <td>0.0</td>\n",
              "      <td>1.0</td>\n",
              "      <td>0.0</td>\n",
              "      <td>1.0</td>\n",
              "      <td>0.0</td>\n",
              "      <td>1.0</td>\n",
              "      <td>0.0</td>\n",
              "      <td>0.0</td>\n",
              "      <td>0.0</td>\n",
              "      <td>0.0</td>\n",
              "      <td>0.0</td>\n",
              "      <td>1.0</td>\n",
              "      <td>0.0</td>\n",
              "      <td>0.0</td>\n",
              "      <td>0.0</td>\n",
              "      <td>0.0</td>\n",
              "      <td>0.0</td>\n",
              "      <td>0.0</td>\n",
              "      <td>0.0</td>\n",
              "      <td>0.0</td>\n",
              "      <td>0.0</td>\n",
              "      <td>0.0</td>\n",
              "      <td>0.0</td>\n",
              "      <td>1.0</td>\n",
              "      <td>...</td>\n",
              "      <td>0.0</td>\n",
              "      <td>0.0</td>\n",
              "      <td>0.0</td>\n",
              "      <td>0.0</td>\n",
              "      <td>0.0</td>\n",
              "      <td>0.0</td>\n",
              "      <td>0.0</td>\n",
              "      <td>0.0</td>\n",
              "      <td>0.0</td>\n",
              "      <td>1.0</td>\n",
              "      <td>0.0</td>\n",
              "      <td>0.0</td>\n",
              "      <td>0.0</td>\n",
              "      <td>0.0</td>\n",
              "      <td>1.0</td>\n",
              "      <td>0.0</td>\n",
              "      <td>0.0</td>\n",
              "      <td>0.0</td>\n",
              "      <td>0.0</td>\n",
              "      <td>0.0</td>\n",
              "      <td>0.0</td>\n",
              "      <td>0.0</td>\n",
              "      <td>0.0</td>\n",
              "      <td>0.0</td>\n",
              "      <td>0.0</td>\n",
              "      <td>0.0</td>\n",
              "      <td>0.0</td>\n",
              "      <td>0.0</td>\n",
              "      <td>0.0</td>\n",
              "      <td>0.0</td>\n",
              "      <td>0.0</td>\n",
              "      <td>1.0</td>\n",
              "      <td>0.0</td>\n",
              "      <td>0.0</td>\n",
              "      <td>1.0</td>\n",
              "      <td>0.0</td>\n",
              "      <td>0.0</td>\n",
              "      <td>0.0</td>\n",
              "      <td>1.0</td>\n",
              "      <td>0.0</td>\n",
              "    </tr>\n",
              "    <tr>\n",
              "      <th>8</th>\n",
              "      <td>476737</td>\n",
              "      <td>0</td>\n",
              "      <td>-40900</td>\n",
              "      <td>8</td>\n",
              "      <td>1</td>\n",
              "      <td>0</td>\n",
              "      <td>1</td>\n",
              "      <td>70290</td>\n",
              "      <td>2008</td>\n",
              "      <td>0</td>\n",
              "      <td>6798</td>\n",
              "      <td>1.0</td>\n",
              "      <td>0.0</td>\n",
              "      <td>0.0</td>\n",
              "      <td>0.0</td>\n",
              "      <td>0.0</td>\n",
              "      <td>0.0</td>\n",
              "      <td>1.0</td>\n",
              "      <td>1.0</td>\n",
              "      <td>0.0</td>\n",
              "      <td>0.0</td>\n",
              "      <td>1.0</td>\n",
              "      <td>0.0</td>\n",
              "      <td>0.0</td>\n",
              "      <td>0.0</td>\n",
              "      <td>1.0</td>\n",
              "      <td>0.0</td>\n",
              "      <td>0.0</td>\n",
              "      <td>0.0</td>\n",
              "      <td>0.0</td>\n",
              "      <td>1.0</td>\n",
              "      <td>0.0</td>\n",
              "      <td>0.0</td>\n",
              "      <td>0.0</td>\n",
              "      <td>0.0</td>\n",
              "      <td>0.0</td>\n",
              "      <td>0.0</td>\n",
              "      <td>0.0</td>\n",
              "      <td>0.0</td>\n",
              "      <td>0.0</td>\n",
              "      <td>...</td>\n",
              "      <td>0.0</td>\n",
              "      <td>0.0</td>\n",
              "      <td>0.0</td>\n",
              "      <td>0.0</td>\n",
              "      <td>0.0</td>\n",
              "      <td>0.0</td>\n",
              "      <td>0.0</td>\n",
              "      <td>0.0</td>\n",
              "      <td>0.0</td>\n",
              "      <td>1.0</td>\n",
              "      <td>0.0</td>\n",
              "      <td>0.0</td>\n",
              "      <td>0.0</td>\n",
              "      <td>0.0</td>\n",
              "      <td>1.0</td>\n",
              "      <td>0.0</td>\n",
              "      <td>0.0</td>\n",
              "      <td>0.0</td>\n",
              "      <td>0.0</td>\n",
              "      <td>0.0</td>\n",
              "      <td>0.0</td>\n",
              "      <td>0.0</td>\n",
              "      <td>0.0</td>\n",
              "      <td>1.0</td>\n",
              "      <td>0.0</td>\n",
              "      <td>0.0</td>\n",
              "      <td>0.0</td>\n",
              "      <td>0.0</td>\n",
              "      <td>0.0</td>\n",
              "      <td>0.0</td>\n",
              "      <td>0.0</td>\n",
              "      <td>0.0</td>\n",
              "      <td>0.0</td>\n",
              "      <td>0.0</td>\n",
              "      <td>1.0</td>\n",
              "      <td>0.0</td>\n",
              "      <td>0.0</td>\n",
              "      <td>1.0</td>\n",
              "      <td>0.0</td>\n",
              "      <td>0.0</td>\n",
              "    </tr>\n",
              "    <tr>\n",
              "      <th>9</th>\n",
              "      <td>437470</td>\n",
              "      <td>0</td>\n",
              "      <td>0</td>\n",
              "      <td>17</td>\n",
              "      <td>3</td>\n",
              "      <td>2</td>\n",
              "      <td>3</td>\n",
              "      <td>42500</td>\n",
              "      <td>2000</td>\n",
              "      <td>0</td>\n",
              "      <td>5385</td>\n",
              "      <td>0.0</td>\n",
              "      <td>0.0</td>\n",
              "      <td>1.0</td>\n",
              "      <td>0.0</td>\n",
              "      <td>0.0</td>\n",
              "      <td>0.0</td>\n",
              "      <td>1.0</td>\n",
              "      <td>1.0</td>\n",
              "      <td>0.0</td>\n",
              "      <td>0.0</td>\n",
              "      <td>1.0</td>\n",
              "      <td>0.0</td>\n",
              "      <td>0.0</td>\n",
              "      <td>1.0</td>\n",
              "      <td>0.0</td>\n",
              "      <td>0.0</td>\n",
              "      <td>0.0</td>\n",
              "      <td>0.0</td>\n",
              "      <td>0.0</td>\n",
              "      <td>0.0</td>\n",
              "      <td>0.0</td>\n",
              "      <td>0.0</td>\n",
              "      <td>0.0</td>\n",
              "      <td>0.0</td>\n",
              "      <td>0.0</td>\n",
              "      <td>0.0</td>\n",
              "      <td>0.0</td>\n",
              "      <td>0.0</td>\n",
              "      <td>0.0</td>\n",
              "      <td>...</td>\n",
              "      <td>0.0</td>\n",
              "      <td>0.0</td>\n",
              "      <td>0.0</td>\n",
              "      <td>0.0</td>\n",
              "      <td>0.0</td>\n",
              "      <td>0.0</td>\n",
              "      <td>0.0</td>\n",
              "      <td>0.0</td>\n",
              "      <td>0.0</td>\n",
              "      <td>1.0</td>\n",
              "      <td>0.0</td>\n",
              "      <td>0.0</td>\n",
              "      <td>0.0</td>\n",
              "      <td>0.0</td>\n",
              "      <td>0.0</td>\n",
              "      <td>0.0</td>\n",
              "      <td>1.0</td>\n",
              "      <td>0.0</td>\n",
              "      <td>0.0</td>\n",
              "      <td>0.0</td>\n",
              "      <td>0.0</td>\n",
              "      <td>0.0</td>\n",
              "      <td>0.0</td>\n",
              "      <td>0.0</td>\n",
              "      <td>0.0</td>\n",
              "      <td>1.0</td>\n",
              "      <td>0.0</td>\n",
              "      <td>0.0</td>\n",
              "      <td>0.0</td>\n",
              "      <td>0.0</td>\n",
              "      <td>0.0</td>\n",
              "      <td>0.0</td>\n",
              "      <td>0.0</td>\n",
              "      <td>1.0</td>\n",
              "      <td>0.0</td>\n",
              "      <td>0.0</td>\n",
              "      <td>0.0</td>\n",
              "      <td>0.0</td>\n",
              "      <td>0.0</td>\n",
              "      <td>1.0</td>\n",
              "    </tr>\n",
              "    <tr>\n",
              "      <th>10</th>\n",
              "      <td>610706</td>\n",
              "      <td>66000</td>\n",
              "      <td>-46000</td>\n",
              "      <td>20</td>\n",
              "      <td>1</td>\n",
              "      <td>0</td>\n",
              "      <td>1</td>\n",
              "      <td>6500</td>\n",
              "      <td>2009</td>\n",
              "      <td>0</td>\n",
              "      <td>256</td>\n",
              "      <td>1.0</td>\n",
              "      <td>0.0</td>\n",
              "      <td>0.0</td>\n",
              "      <td>0.0</td>\n",
              "      <td>0.0</td>\n",
              "      <td>0.0</td>\n",
              "      <td>1.0</td>\n",
              "      <td>0.0</td>\n",
              "      <td>0.0</td>\n",
              "      <td>1.0</td>\n",
              "      <td>0.0</td>\n",
              "      <td>1.0</td>\n",
              "      <td>1.0</td>\n",
              "      <td>0.0</td>\n",
              "      <td>0.0</td>\n",
              "      <td>0.0</td>\n",
              "      <td>0.0</td>\n",
              "      <td>0.0</td>\n",
              "      <td>0.0</td>\n",
              "      <td>0.0</td>\n",
              "      <td>0.0</td>\n",
              "      <td>0.0</td>\n",
              "      <td>0.0</td>\n",
              "      <td>0.0</td>\n",
              "      <td>0.0</td>\n",
              "      <td>0.0</td>\n",
              "      <td>0.0</td>\n",
              "      <td>0.0</td>\n",
              "      <td>0.0</td>\n",
              "      <td>...</td>\n",
              "      <td>0.0</td>\n",
              "      <td>1.0</td>\n",
              "      <td>0.0</td>\n",
              "      <td>0.0</td>\n",
              "      <td>0.0</td>\n",
              "      <td>0.0</td>\n",
              "      <td>0.0</td>\n",
              "      <td>0.0</td>\n",
              "      <td>0.0</td>\n",
              "      <td>1.0</td>\n",
              "      <td>0.0</td>\n",
              "      <td>0.0</td>\n",
              "      <td>0.0</td>\n",
              "      <td>0.0</td>\n",
              "      <td>0.0</td>\n",
              "      <td>0.0</td>\n",
              "      <td>1.0</td>\n",
              "      <td>0.0</td>\n",
              "      <td>0.0</td>\n",
              "      <td>0.0</td>\n",
              "      <td>0.0</td>\n",
              "      <td>0.0</td>\n",
              "      <td>0.0</td>\n",
              "      <td>0.0</td>\n",
              "      <td>0.0</td>\n",
              "      <td>1.0</td>\n",
              "      <td>0.0</td>\n",
              "      <td>0.0</td>\n",
              "      <td>0.0</td>\n",
              "      <td>0.0</td>\n",
              "      <td>0.0</td>\n",
              "      <td>0.0</td>\n",
              "      <td>1.0</td>\n",
              "      <td>0.0</td>\n",
              "      <td>0.0</td>\n",
              "      <td>0.0</td>\n",
              "      <td>0.0</td>\n",
              "      <td>0.0</td>\n",
              "      <td>0.0</td>\n",
              "      <td>1.0</td>\n",
              "    </tr>\n",
              "    <tr>\n",
              "      <th>11</th>\n",
              "      <td>435100</td>\n",
              "      <td>67900</td>\n",
              "      <td>0</td>\n",
              "      <td>10</td>\n",
              "      <td>1</td>\n",
              "      <td>2</td>\n",
              "      <td>3</td>\n",
              "      <td>58500</td>\n",
              "      <td>1999</td>\n",
              "      <td>0</td>\n",
              "      <td>335</td>\n",
              "      <td>1.0</td>\n",
              "      <td>0.0</td>\n",
              "      <td>0.0</td>\n",
              "      <td>0.0</td>\n",
              "      <td>0.0</td>\n",
              "      <td>0.0</td>\n",
              "      <td>1.0</td>\n",
              "      <td>1.0</td>\n",
              "      <td>0.0</td>\n",
              "      <td>0.0</td>\n",
              "      <td>0.0</td>\n",
              "      <td>1.0</td>\n",
              "      <td>0.0</td>\n",
              "      <td>1.0</td>\n",
              "      <td>0.0</td>\n",
              "      <td>0.0</td>\n",
              "      <td>0.0</td>\n",
              "      <td>0.0</td>\n",
              "      <td>0.0</td>\n",
              "      <td>0.0</td>\n",
              "      <td>0.0</td>\n",
              "      <td>0.0</td>\n",
              "      <td>0.0</td>\n",
              "      <td>0.0</td>\n",
              "      <td>0.0</td>\n",
              "      <td>0.0</td>\n",
              "      <td>0.0</td>\n",
              "      <td>1.0</td>\n",
              "      <td>0.0</td>\n",
              "      <td>...</td>\n",
              "      <td>1.0</td>\n",
              "      <td>0.0</td>\n",
              "      <td>0.0</td>\n",
              "      <td>0.0</td>\n",
              "      <td>0.0</td>\n",
              "      <td>0.0</td>\n",
              "      <td>0.0</td>\n",
              "      <td>0.0</td>\n",
              "      <td>0.0</td>\n",
              "      <td>1.0</td>\n",
              "      <td>0.0</td>\n",
              "      <td>0.0</td>\n",
              "      <td>0.0</td>\n",
              "      <td>0.0</td>\n",
              "      <td>1.0</td>\n",
              "      <td>0.0</td>\n",
              "      <td>0.0</td>\n",
              "      <td>0.0</td>\n",
              "      <td>0.0</td>\n",
              "      <td>0.0</td>\n",
              "      <td>0.0</td>\n",
              "      <td>0.0</td>\n",
              "      <td>0.0</td>\n",
              "      <td>1.0</td>\n",
              "      <td>0.0</td>\n",
              "      <td>0.0</td>\n",
              "      <td>0.0</td>\n",
              "      <td>0.0</td>\n",
              "      <td>0.0</td>\n",
              "      <td>0.0</td>\n",
              "      <td>0.0</td>\n",
              "      <td>0.0</td>\n",
              "      <td>0.0</td>\n",
              "      <td>0.0</td>\n",
              "      <td>1.0</td>\n",
              "      <td>0.0</td>\n",
              "      <td>0.0</td>\n",
              "      <td>1.0</td>\n",
              "      <td>0.0</td>\n",
              "      <td>0.0</td>\n",
              "    </tr>\n",
              "    <tr>\n",
              "      <th>12</th>\n",
              "      <td>443567</td>\n",
              "      <td>0</td>\n",
              "      <td>-32100</td>\n",
              "      <td>20</td>\n",
              "      <td>3</td>\n",
              "      <td>0</td>\n",
              "      <td>1</td>\n",
              "      <td>60200</td>\n",
              "      <td>2012</td>\n",
              "      <td>0</td>\n",
              "      <td>4819</td>\n",
              "      <td>0.0</td>\n",
              "      <td>0.0</td>\n",
              "      <td>1.0</td>\n",
              "      <td>0.0</td>\n",
              "      <td>0.0</td>\n",
              "      <td>0.0</td>\n",
              "      <td>1.0</td>\n",
              "      <td>0.0</td>\n",
              "      <td>1.0</td>\n",
              "      <td>0.0</td>\n",
              "      <td>0.0</td>\n",
              "      <td>1.0</td>\n",
              "      <td>0.0</td>\n",
              "      <td>0.0</td>\n",
              "      <td>0.0</td>\n",
              "      <td>0.0</td>\n",
              "      <td>1.0</td>\n",
              "      <td>0.0</td>\n",
              "      <td>0.0</td>\n",
              "      <td>0.0</td>\n",
              "      <td>0.0</td>\n",
              "      <td>0.0</td>\n",
              "      <td>1.0</td>\n",
              "      <td>0.0</td>\n",
              "      <td>0.0</td>\n",
              "      <td>0.0</td>\n",
              "      <td>0.0</td>\n",
              "      <td>0.0</td>\n",
              "      <td>0.0</td>\n",
              "      <td>...</td>\n",
              "      <td>0.0</td>\n",
              "      <td>0.0</td>\n",
              "      <td>0.0</td>\n",
              "      <td>0.0</td>\n",
              "      <td>0.0</td>\n",
              "      <td>0.0</td>\n",
              "      <td>0.0</td>\n",
              "      <td>0.0</td>\n",
              "      <td>0.0</td>\n",
              "      <td>0.0</td>\n",
              "      <td>1.0</td>\n",
              "      <td>0.0</td>\n",
              "      <td>0.0</td>\n",
              "      <td>1.0</td>\n",
              "      <td>0.0</td>\n",
              "      <td>0.0</td>\n",
              "      <td>0.0</td>\n",
              "      <td>0.0</td>\n",
              "      <td>0.0</td>\n",
              "      <td>0.0</td>\n",
              "      <td>0.0</td>\n",
              "      <td>0.0</td>\n",
              "      <td>0.0</td>\n",
              "      <td>1.0</td>\n",
              "      <td>0.0</td>\n",
              "      <td>0.0</td>\n",
              "      <td>0.0</td>\n",
              "      <td>0.0</td>\n",
              "      <td>0.0</td>\n",
              "      <td>0.0</td>\n",
              "      <td>0.0</td>\n",
              "      <td>0.0</td>\n",
              "      <td>0.0</td>\n",
              "      <td>0.0</td>\n",
              "      <td>1.0</td>\n",
              "      <td>0.0</td>\n",
              "      <td>0.0</td>\n",
              "      <td>0.0</td>\n",
              "      <td>0.0</td>\n",
              "      <td>1.0</td>\n",
              "    </tr>\n",
              "    <tr>\n",
              "      <th>13</th>\n",
              "      <td>450800</td>\n",
              "      <td>51100</td>\n",
              "      <td>-75100</td>\n",
              "      <td>2</td>\n",
              "      <td>1</td>\n",
              "      <td>2</td>\n",
              "      <td>2</td>\n",
              "      <td>69400</td>\n",
              "      <td>2012</td>\n",
              "      <td>0</td>\n",
              "      <td>8585</td>\n",
              "      <td>0.0</td>\n",
              "      <td>0.0</td>\n",
              "      <td>1.0</td>\n",
              "      <td>0.0</td>\n",
              "      <td>0.0</td>\n",
              "      <td>0.0</td>\n",
              "      <td>1.0</td>\n",
              "      <td>1.0</td>\n",
              "      <td>0.0</td>\n",
              "      <td>0.0</td>\n",
              "      <td>0.0</td>\n",
              "      <td>1.0</td>\n",
              "      <td>0.0</td>\n",
              "      <td>0.0</td>\n",
              "      <td>0.0</td>\n",
              "      <td>0.0</td>\n",
              "      <td>1.0</td>\n",
              "      <td>0.0</td>\n",
              "      <td>0.0</td>\n",
              "      <td>0.0</td>\n",
              "      <td>0.0</td>\n",
              "      <td>0.0</td>\n",
              "      <td>0.0</td>\n",
              "      <td>0.0</td>\n",
              "      <td>0.0</td>\n",
              "      <td>0.0</td>\n",
              "      <td>1.0</td>\n",
              "      <td>0.0</td>\n",
              "      <td>0.0</td>\n",
              "      <td>...</td>\n",
              "      <td>0.0</td>\n",
              "      <td>0.0</td>\n",
              "      <td>0.0</td>\n",
              "      <td>0.0</td>\n",
              "      <td>0.0</td>\n",
              "      <td>0.0</td>\n",
              "      <td>0.0</td>\n",
              "      <td>0.0</td>\n",
              "      <td>0.0</td>\n",
              "      <td>1.0</td>\n",
              "      <td>0.0</td>\n",
              "      <td>0.0</td>\n",
              "      <td>0.0</td>\n",
              "      <td>0.0</td>\n",
              "      <td>0.0</td>\n",
              "      <td>0.0</td>\n",
              "      <td>0.0</td>\n",
              "      <td>1.0</td>\n",
              "      <td>0.0</td>\n",
              "      <td>0.0</td>\n",
              "      <td>0.0</td>\n",
              "      <td>0.0</td>\n",
              "      <td>0.0</td>\n",
              "      <td>0.0</td>\n",
              "      <td>0.0</td>\n",
              "      <td>0.0</td>\n",
              "      <td>1.0</td>\n",
              "      <td>0.0</td>\n",
              "      <td>0.0</td>\n",
              "      <td>0.0</td>\n",
              "      <td>0.0</td>\n",
              "      <td>0.0</td>\n",
              "      <td>1.0</td>\n",
              "      <td>0.0</td>\n",
              "      <td>0.0</td>\n",
              "      <td>0.0</td>\n",
              "      <td>0.0</td>\n",
              "      <td>0.0</td>\n",
              "      <td>1.0</td>\n",
              "      <td>0.0</td>\n",
              "    </tr>\n",
              "  </tbody>\n",
              "</table>\n",
              "<p>14 rows × 175 columns</p>\n",
              "</div>"
            ],
            "text/plain": [
              "    insured_zip  ...  policy_deductable_group_501-1000\n",
              "0        446755  ...                               1.0\n",
              "1        475891  ...                               0.0\n",
              "2        603948  ...                               1.0\n",
              "3        462525  ...                               0.0\n",
              "4        471366  ...                               0.0\n",
              "5        604328  ...                               0.0\n",
              "6        438546  ...                               0.0\n",
              "7        431354  ...                               0.0\n",
              "8        476737  ...                               0.0\n",
              "9        437470  ...                               1.0\n",
              "10       610706  ...                               1.0\n",
              "11       435100  ...                               0.0\n",
              "12       443567  ...                               1.0\n",
              "13       450800  ...                               0.0\n",
              "\n",
              "[14 rows x 175 columns]"
            ]
          },
          "execution_count": 20,
          "metadata": {},
          "output_type": "execute_result"
        }
      ],
      "source": [
        "#Bütün kategorik verilere one-hot dönüşümü uygulanması\n",
        "from sklearn.preprocessing import OneHotEncoder\n",
        "\n",
        "#Model setine fit ve transform işlemlerinin uygulanması\n",
        "ohe = OneHotEncoder(handle_unknown='ignore')\n",
        "enc_fit = ohe.fit(df1_model[columns_to_encode])\n",
        "enc_fit_arr=enc_fit.fit_transform(df1_model[columns_to_encode]).toarray()\n",
        "\n",
        "# Birleştirme sırasında veri kaybı yaşanmaması için index resetleme\n",
        "df1_dummy.reset_index(drop=True, inplace=True)\n",
        "\n",
        "# Encode sonucu oluşan veriler ile orjinal verilerin birleştirilmesi\n",
        "enc_fit_df=pd.DataFrame(enc_fit_arr, columns=clmn_dummy)\n",
        "df1_model_ohe = pd.concat([df1_dummy,enc_fit_df], axis=1)\n",
        "df1_model_ohe.head(14)"
      ]
    },
    {
      "cell_type": "markdown",
      "metadata": {
        "id": "qcIBB_Rl9whJ"
      },
      "source": [
        "<br>Yukarıda model setine one-hot dönüşümü uygulandı, parametre olarak da handle_unknown = 'ignore' verildi. Böylelikle validation setindeki veriler ile uyuşmazlık yaşandığı takdirde çıkacak olan sorunun üstesinden gelmiş olduk.<br>"
      ]
    },
    {
      "cell_type": "code",
      "execution_count": 21,
      "metadata": {
        "colab": {
          "base_uri": "https://localhost:8080/"
        },
        "id": "0YxKFElCvfGm",
        "outputId": "8bc7ea9d-a967-47f2-b0f7-b58fd505250d"
      },
      "outputs": [
        {
          "data": {
            "text/plain": [
              "[]"
            ]
          },
          "execution_count": 21,
          "metadata": {},
          "output_type": "execute_result"
        }
      ],
      "source": [
        "#Kategorik değişken varlığının kontorlü\n",
        "cols = df1_model_ohe.columns\n",
        "num_cols = df1_model_ohe._get_numeric_data().columns\n",
        "list(set(cols) - set(num_cols))"
      ]
    },
    {
      "cell_type": "code",
      "execution_count": 22,
      "metadata": {
        "id": "BWFr7h6ZwhZ2"
      },
      "outputs": [],
      "source": [
        "#Feature ve target değişkenlerinin belirlenmesi\n",
        "target = 'fraud_reported'\n",
        "\n",
        "X = df1_model_ohe.drop(columns=target, axis=1)\n",
        "y = df1_model_ohe[target]\n",
        "\n",
        "#Feature'lara scale işlemi uygulanması\n",
        "sc = StandardScaler()\n",
        "X = sc.fit_transform(X)"
      ]
    },
    {
      "cell_type": "markdown",
      "metadata": {
        "id": "JNdShC9k-fa1"
      },
      "source": [
        "<br/>Yukarıda öncelikle elimizde kategorik değişken kalıp kalmadığı kontrol edildi. Bütün değişkenlerin nümerik olduğu tespit edildikten sonra feature ve targerları belirlendi. Sonrasında elimizdeki verileri ölçekleyerek model kurmaya hazır hale getirildi.\n",
        "Bundan sonraki adım ise hedefimizdeki değişkenleri dengeli hale getirmek olacak. Elimizde az sayıda bulunan 1 değişkenini oversampling ile arttırarak 0 ile aynı seviyeye getireceğiz.\n",
        "<br/>"
      ]
    },
    {
      "cell_type": "code",
      "execution_count": 23,
      "metadata": {
        "colab": {
          "base_uri": "https://localhost:8080/",
          "height": 385
        },
        "id": "mTCll_6fw7bq",
        "outputId": "8d7693ca-d245-421b-b765-9c336e3f50bf"
      },
      "outputs": [
        {
          "name": "stderr",
          "output_type": "stream",
          "text": [
            "/usr/local/lib/python3.7/dist-packages/sklearn/utils/deprecation.py:87: FutureWarning: Function safe_indexing is deprecated; safe_indexing is deprecated in version 0.22 and will be removed in version 0.24.\n",
            "  warnings.warn(msg, category=FutureWarning)\n",
            "/usr/local/lib/python3.7/dist-packages/seaborn/_decorators.py:43: FutureWarning: Pass the following variable as a keyword arg: x. From version 0.12, the only valid positional argument will be `data`, and passing other arguments without an explicit keyword will result in an error or misinterpretation.\n",
            "  FutureWarning\n"
          ]
        },
        {
          "data": {
            "text/plain": [
              "<matplotlib.axes._subplots.AxesSubplot at 0x7f625f123f10>"
            ]
          },
          "execution_count": 23,
          "metadata": {},
          "output_type": "execute_result"
        },
        {
          "data": {
            "image/png": "[encoded data removed]",
            "text/plain": [
              "<Figure size 432x288 with 1 Axes>"
            ]
          },
          "metadata": {
            "needs_background": "light"
          },
          "output_type": "display_data"
        }
      ],
      "source": [
        "#Train/test splitting ve oversampling işlemleri\n",
        "oversample = SMOTE(random_state=9)\n",
        "X_train, X_test, y_train, y_test = train_test_split(X, y, test_size = 0.3,  random_state = 42)\n",
        "X_over, y_over = oversample.fit_resample(X_train, y_train)\n",
        "X_train, X_test, y_train, y_test = train_test_split(X_over, y_over, test_size = 0.3, random_state = 1)\n",
        "\n",
        "chck = pd.DataFrame()\n",
        "chck['fraud_reported'] = y_train\n",
        "\n",
        "sns.countplot(chck['fraud_reported'])"
      ]
    },
    {
      "cell_type": "markdown",
      "metadata": {
        "id": "SmEu6LFQ_WjJ"
      },
      "source": [
        "<br>\n",
        "Target değişkenlerimizin de dengeli hale geldiğini yukarıdaki grafikten anlayabiliyoruz. Artık elimizdeki test verisini kullanarak, Random Forest ile tahminleme yapıp skor üretebiliriz.\n",
        "<br>"
      ]
    },
    {
      "cell_type": "code",
      "execution_count": 24,
      "metadata": {
        "colab": {
          "base_uri": "https://localhost:8080/",
          "height": 469
        },
        "id": "dMiLZK2iw-Xh",
        "outputId": "a2f4bd46-75eb-42c3-b977-a9a50cecac02"
      },
      "outputs": [
        {
          "name": "stdout",
          "output_type": "stream",
          "text": [
            "93.25396825396825\n",
            "\n",
            "              precision    recall  f1-score   support\n",
            "\n",
            "           0       0.94      0.92      0.93       128\n",
            "           1       0.92      0.94      0.93       124\n",
            "\n",
            "    accuracy                           0.93       252\n",
            "   macro avg       0.93      0.93      0.93       252\n",
            "weighted avg       0.93      0.93      0.93       252\n",
            "\n"
          ]
        },
        {
          "data": {
            "text/plain": [
              "<matplotlib.axes._subplots.AxesSubplot at 0x7f625f677e10>"
            ]
          },
          "execution_count": 24,
          "metadata": {},
          "output_type": "execute_result"
        },
        {
          "data": {
            "image/png": "[encoded data removed]",
            "text/plain": [
              "<Figure size 432x288 with 2 Axes>"
            ]
          },
          "metadata": {
            "needs_background": "light"
          },
          "output_type": "display_data"
        }
      ],
      "source": [
        "# RFC tanımlanıp tahmin yapılıp skor üretilmesi\n",
        "rfc = RandomForestClassifier(random_state = 1)\n",
        "rfc.fit(X_train, y_train)\n",
        "preds = rfc.predict(X_test)\n",
        "score = rfc.score(X_test, y_test)\n",
        "\n",
        "print(score*100)\n",
        "print()\n",
        "print(classification_report(y_test, preds))\n",
        "\n",
        "cm = confusion_matrix(y_test, preds)\n",
        "sns\n",
        "sns.heatmap(cm, annot=True)"
      ]
    },
    {
      "cell_type": "markdown",
      "metadata": {
        "id": "T3x4cQgTBSEG"
      },
      "source": [
        "<br>\n",
        "Model setimize encode, scale ve smote işlemlerini uyguladıktan sonra test için ayırdığımız veri seti ile basit bir deneme yaptığımızda 0 ve 1 için güzel tahmin skorları üretebildik. Hyperparameter optimizasyonu ile neler değiştirebileceğimizi aşağıda göreceğiz.\n",
        "<br>"
      ]
    },
    {
      "cell_type": "code",
      "execution_count": 25,
      "metadata": {
        "colab": {
          "base_uri": "https://localhost:8080/"
        },
        "id": "Ly0E8sWbxRK9",
        "outputId": "c59d03d4-b38a-4ea6-f5de-f82f78c80997"
      },
      "outputs": [
        {
          "name": "stdout",
          "output_type": "stream",
          "text": [
            "{'n_estimators': [300, 650, 1000], 'max_features': ['auto', 'sqrt'], 'max_depth': [5, 17, 30, None], 'min_samples_split': [2, 5, 10], 'min_samples_leaf': [1, 2, 4], 'bootstrap': [True, False]}\n",
            "Fitting 3 folds for each of 100 candidates, totalling 300 fits\n"
          ]
        },
        {
          "name": "stderr",
          "output_type": "stream",
          "text": [
            "[Parallel(n_jobs=-1)]: Using backend LokyBackend with 2 concurrent workers.\n",
            "[Parallel(n_jobs=-1)]: Done  37 tasks      | elapsed:   32.9s\n",
            "[Parallel(n_jobs=-1)]: Done 158 tasks      | elapsed:  2.3min\n",
            "[Parallel(n_jobs=-1)]: Done 300 out of 300 | elapsed:  4.3min finished\n"
          ]
        },
        {
          "data": {
            "text/plain": [
              "RandomizedSearchCV(cv=3, error_score=nan,\n",
              "                   estimator=RandomForestClassifier(bootstrap=True,\n",
              "                                                    ccp_alpha=0.0,\n",
              "                                                    class_weight=None,\n",
              "                                                    criterion='gini',\n",
              "                                                    max_depth=None,\n",
              "                                                    max_features='auto',\n",
              "                                                    max_leaf_nodes=None,\n",
              "                                                    max_samples=None,\n",
              "                                                    min_impurity_decrease=0.0,\n",
              "                                                    min_impurity_split=None,\n",
              "                                                    min_samples_leaf=1,\n",
              "                                                    min_samples_split=2,\n",
              "                                                    min_weight_fraction_leaf=0.0,\n",
              "                                                    n_estimators=100,\n",
              "                                                    n_jobs...\n",
              "                                                    verbose=0,\n",
              "                                                    warm_start=False),\n",
              "                   iid='deprecated', n_iter=100, n_jobs=-1,\n",
              "                   param_distributions={'bootstrap': [True, False],\n",
              "                                        'max_depth': [5, 17, 30, None],\n",
              "                                        'max_features': ['auto', 'sqrt'],\n",
              "                                        'min_samples_leaf': [1, 2, 4],\n",
              "                                        'min_samples_split': [2, 5, 10],\n",
              "                                        'n_estimators': [300, 650, 1000]},\n",
              "                   pre_dispatch='2*n_jobs', random_state=42, refit=True,\n",
              "                   return_train_score=False, scoring=None, verbose=2)"
            ]
          },
          "execution_count": 25,
          "metadata": {},
          "output_type": "execute_result"
        }
      ],
      "source": [
        "\n",
        "# Number of trees in random forest\n",
        "n_estimators = [int(x) for x in np.linspace(start = 300, stop = 1000, num = 3)]\n",
        "# Number of features to consider at every split\n",
        "max_features = ['auto', 'sqrt']\n",
        "# Maximum number of levels in tree\n",
        "max_depth = [int(x) for x in np.linspace(5, 30, num = 3)]\n",
        "max_depth.append(None)\n",
        "# Minimum number of samples required to split a node\n",
        "min_samples_split = [2, 5, 10]\n",
        "# Minimum number of samples required at each leaf node\n",
        "min_samples_leaf = [1, 2, 4]\n",
        "# Method of selecting samples for training each tree\n",
        "bootstrap = [True, False]\n",
        "# Create the random grid\n",
        "random_grid = {'n_estimators': n_estimators,\n",
        "               'max_features': max_features,\n",
        "               'max_depth': max_depth,\n",
        "               'min_samples_split': min_samples_split,\n",
        "               'min_samples_leaf': min_samples_leaf,\n",
        "               'bootstrap': bootstrap}\n",
        "print(random_grid)\n",
        "\n",
        "# Use the random grid to search for best hyperparameters\n",
        "# First create the base model to tune\n",
        "rf = RandomForestClassifier()\n",
        "# Random search of parameters, using 3 fold cross validation, \n",
        "# search across 100 different combinations, and use all available cores\n",
        "rf_random = RandomizedSearchCV(estimator = rf, param_distributions = random_grid, n_iter = 100, cv = 3, verbose=2, random_state=42, n_jobs = -1)\n",
        "# Fit the random search model\n",
        "rf_random.fit(X_train, y_train)"
      ]
    },
    {
      "cell_type": "code",
      "execution_count": 26,
      "metadata": {
        "colab": {
          "base_uri": "https://localhost:8080/"
        },
        "id": "fzBtccQgypal",
        "outputId": "43d6c8d8-5c06-426a-9a89-d0bce79f8950"
      },
      "outputs": [
        {
          "data": {
            "text/plain": [
              "{'bootstrap': False,\n",
              " 'max_depth': 5,\n",
              " 'max_features': 'auto',\n",
              " 'min_samples_leaf': 2,\n",
              " 'min_samples_split': 2,\n",
              " 'n_estimators': 300}"
            ]
          },
          "execution_count": 26,
          "metadata": {},
          "output_type": "execute_result"
        }
      ],
      "source": [
        "rf_random.best_params_"
      ]
    },
    {
      "cell_type": "code",
      "execution_count": 43,
      "metadata": {
        "colab": {
          "base_uri": "https://localhost:8080/",
          "height": 469
        },
        "id": "2lijIBtuyq2U",
        "outputId": "16a816d3-f0c6-4aae-bfa0-5e28ab27944e"
      },
      "outputs": [
        {
          "name": "stdout",
          "output_type": "stream",
          "text": [
            "91.93548387096774\n",
            "\n",
            "              precision    recall  f1-score   support\n",
            "\n",
            "           0       0.93      0.90      0.92       124\n",
            "           1       0.91      0.94      0.92       124\n",
            "\n",
            "    accuracy                           0.92       248\n",
            "   macro avg       0.92      0.92      0.92       248\n",
            "weighted avg       0.92      0.92      0.92       248\n",
            "\n"
          ]
        },
        {
          "data": {
            "text/plain": [
              "<matplotlib.axes._subplots.AxesSubplot at 0x7f62558d2810>"
            ]
          },
          "execution_count": 43,
          "metadata": {},
          "output_type": "execute_result"
        },
        {
          "data": {
            "image/png": "[encoded data removed]",
            "text/plain": [
              "<Figure size 432x288 with 2 Axes>"
            ]
          },
          "metadata": {
            "needs_background": "light"
          },
          "output_type": "display_data"
        }
      ],
      "source": [
        "# Bulunan best paramsların rfc'ye uygulanması ve tekrardan fit ve tahmin işlemlerinin gerçekleştirilip skor üretilmesi\n",
        "rf2 = RandomForestClassifier(n_estimators=300,min_samples_split=2,min_samples_leaf=2,max_features='auto'\n",
        "                            ,max_depth=5,bootstrap='False')\n",
        "rf2.fit(X_train, y_train)\n",
        "\n",
        "preds = rf2.predict(X_test)\n",
        "\n",
        "score = rf2.score(X_test, y_test)\n",
        "print(score*100)\n",
        "print()\n",
        "print(classification_report(y_test, preds))\n",
        "\n",
        "cm = confusion_matrix(y_test, preds)\n",
        "sns\n",
        "sns.heatmap(cm, annot=True)"
      ]
    },
    {
      "cell_type": "markdown",
      "metadata": {
        "id": "Wkzc60pKCLpr"
      },
      "source": [
        "<br>\n",
        "Çeşitli parametre değişkenleri denenerek bir çok kez eğitim gerçekleştirildi ve elde edilen skorların bir önceki aşamadaki ile aynı olduğu tespit edildi. Elimizde alabileceğimiz maksimum verim üreten parametrelerle devam edeceğiz. Bundan sonraki aşama ise modelimizi gerçek yaşam simülasyonuna sokmak, evet, validation seti ile modelimizin ne kadar faydalı çalıştığını tespit etmeye çalışacağız. Fakat öncesinde validation setimizi modelimize uygun hale getirmemiz lazım, yani modele ne işlem uygulandıysa aynısını validation setine de uygulamamız gerekmektedir. Bunlar da encode ve scale işlemleri. \n",
        "<br>"
      ]
    },
    {
      "cell_type": "code",
      "execution_count": 44,
      "metadata": {
        "id": "816ce4HL6vMp"
      },
      "outputs": [],
      "source": [
        "# KAtegorik verilerin tespiti\n",
        "categorical_cols = ['age_group', 'months_as_customer_groups', 'policy_annual_premium_groups','location_check','policy_deductable_group']\n",
        "for col in categorical_cols:\n",
        "  df1_val[col] = df1_val[col].astype('object')\n",
        "\n",
        "# Encode edilecek olan kolonların belirlenmesi\n",
        "columns_to_encode = []\n",
        "for col in df1_val.columns:\n",
        "  if df1_val[col].dtype == 'object':\n",
        "    columns_to_encode.append(col)\n",
        "\n",
        "# Daha önce oluşturulan enc_fit ile validation setinin de encode edilmesi\n",
        "df1_val_ohe = pd.DataFrame(enc_fit.transform(df1_val[columns_to_encode]).toarray(), columns=clmn_dummy)\n",
        "columns_num = columns_dummy[:11]\n",
        "df1_val_numerical = pd.DataFrame(df1_val, columns=columns_num)\n",
        "df1_val_numerical.reset_index(drop=True, inplace=True)\n",
        "df1_val_ohe = pd.concat([df1_val_numerical, df1_val_ohe], axis=1)\n",
        "\n",
        "# Feature ve targetlerın belirlenmesi\n",
        "target = 'fraud_reported'\n",
        "X_val = df1_val_ohe.drop(columns=target, axis=1)\n",
        "y_val = df1_val_ohe[target]\n",
        "\n",
        "# Feature verilerinin ölçeklendirilmesi\n",
        "X_val = sc.fit_transform(X_val)"
      ]
    },
    {
      "cell_type": "code",
      "execution_count": 45,
      "metadata": {
        "colab": {
          "base_uri": "https://localhost:8080/",
          "height": 469
        },
        "id": "macIITdbgboJ",
        "outputId": "5b12697f-db7f-4784-b22d-a8a501496369"
      },
      "outputs": [
        {
          "name": "stdout",
          "output_type": "stream",
          "text": [
            "27.500000000000004\n",
            "\n",
            "              precision    recall  f1-score   support\n",
            "\n",
            "           0       0.95      0.12      0.21       163\n",
            "           1       0.20      0.97      0.33        37\n",
            "\n",
            "    accuracy                           0.28       200\n",
            "   macro avg       0.57      0.54      0.27       200\n",
            "weighted avg       0.81      0.28      0.23       200\n",
            "\n"
          ]
        },
        {
          "data": {
            "text/plain": [
              "<matplotlib.axes._subplots.AxesSubplot at 0x7f6253f12c50>"
            ]
          },
          "execution_count": 45,
          "metadata": {},
          "output_type": "execute_result"
        },
        {
          "data": {
            "image/png": "[encoded data removed]",
            "text/plain": [
              "<Figure size 432x288 with 2 Axes>"
            ]
          },
          "metadata": {
            "needs_background": "light"
          },
          "output_type": "display_data"
        }
      ],
      "source": [
        "# Train seti ile validation setinin tahminlemesi\n",
        "preds = rf2.predict(X_val)\n",
        "score = rf2.score(X_val, y_val)\n",
        "\n",
        "print(score*100)\n",
        "print()\n",
        "print(classification_report(y_val, preds))\n",
        "\n",
        "cm = confusion_matrix(y_val, preds)\n",
        "sns\n",
        "sns.heatmap(cm, annot=True)"
      ]
    },
    {
      "cell_type": "markdown",
      "metadata": {
        "id": "o3xItMAJDrcl"
      },
      "source": [
        "<br>\n",
        "Validasyon verilerine yukarıda bahsedilen işlemler uygulandıktan sonra modelimizin gerçek hayatta nasıl bir performans sergilediğini yukarıda görmekteyiz. Daha öncesinde yüzde 91 olan 0 tahminleme skoru yüzde 12 değerine kadar gerilemiş. Gerçek hayatta sıfırları tahminlemede oldukça kötü bir performans sergilediğini görüyoruz. Peki burda neyi yanlış yaptık ya da neyi değiştirebiliriz? Belki kullandığımız algoritma ya da yanlış verilerin gruplanması... vb. bir çok etken buna sebep olabilir. En basit yoldan bir şeyi değiştirebilir, o da threshold değeri. Bu değer ile oynayarak nasıl bir çıktı alacağımızı kontrol edelim.\n",
        "<br>"
      ]
    },
    {
      "cell_type": "code",
      "execution_count": 47,
      "metadata": {
        "colab": {
          "base_uri": "https://localhost:8080/",
          "height": 469
        },
        "id": "m8jEHoiWhO8M",
        "outputId": "a5466b6a-9f09-4c1c-9be1-be664e5b2513"
      },
      "outputs": [
        {
          "name": "stdout",
          "output_type": "stream",
          "text": [
            "27.500000000000004\n",
            "\n",
            "              precision    recall  f1-score   support\n",
            "\n",
            "           0       0.94      0.72      0.82       163\n",
            "           1       0.40      0.81      0.54        37\n",
            "\n",
            "    accuracy                           0.74       200\n",
            "   macro avg       0.67      0.77      0.68       200\n",
            "weighted avg       0.84      0.74      0.77       200\n",
            "\n"
          ]
        },
        {
          "data": {
            "text/plain": [
              "<matplotlib.axes._subplots.AxesSubplot at 0x7f62558e0150>"
            ]
          },
          "execution_count": 47,
          "metadata": {},
          "output_type": "execute_result"
        },
        {
          "data": {
            "image/png": "[encoded data removed]",
            "text/plain": [
              "<Figure size 432x288 with 2 Axes>"
            ]
          },
          "metadata": {
            "needs_background": "light"
          },
          "output_type": "display_data"
        }
      ],
      "source": [
        "# Threhold değerine müdahelede bulunulması ve sonrasında tekrardan skor üretilmesi\n",
        "preds = (rf2.predict_proba(X_val)[:,1] >= 0.62).astype(int)\n",
        "score = rf2.score(X_val, y_val)\n",
        "print(score*100)\n",
        "print()\n",
        "print(classification_report(y_val, preds))\n",
        "\n",
        "cm = confusion_matrix(y_val, preds)\n",
        "sns\n",
        "sns.heatmap(cm, annot=True)"
      ]
    },
    {
      "cell_type": "markdown",
      "metadata": {
        "id": "jTpcvb8NEe2h"
      },
      "source": [
        "<br>\n",
        "Threshold değerimiz ile oynadığımızda özellikle 0 tahminlemede ciddi bir ilerleme kaydettiğimizi görüyoruz fakat 1 tahminlemede de ufak bir kaybımız var. Modelin bu haliyle bir öncekine oranla daha iyi olduğunu söyleyebiliriz fakat hala mükemmel değil. Peki mükemmel olması için başka ne yapılabilir? Train/test splitte çeşitli yöntemler uygulanabilir, farklı algoritmalar denenebilir ya da encoding yöntemleri değiştirilebilir. \n",
        "Öncelikle farklı algoritmalar ile farklı sonuçlar üretilebileceğimiz bir gerçek fakat bizim burdaki amacımız farklı algoritmaları denemekten ziyade gerçekleştireceğimiz diğer işlemler ile aynı algoritma üzerinde daha fazla skor üretebilmek. \n",
        "Genel olarak veri setine komple label encoding yapmak pek doğru gelmemektedir, sebebi ise label encodingin çalışma mantığı. Belirli kategoriler belirleyip onlara ayrıca uygulamak mantıklı olabilir fakat tek seferde bütün kategorik değişkenlere uygulanabilecek en mantıklı yöntem one-hot encoding. Bu seçeneği de elediğimize göre, smote'da ki state adımı ve train test split parametrelerinde değişikliklerle skorumuzu yükseltmeyi deneyelim.\n",
        "<br>"
      ]
    },
    {
      "cell_type": "code",
      "execution_count": 31,
      "metadata": {
        "colab": {
          "base_uri": "https://localhost:8080/",
          "height": 523
        },
        "id": "oXh-kDlR7Bmo",
        "outputId": "54736560-d4b9-4ff2-83cf-a6f60221d1d1"
      },
      "outputs": [
        {
          "name": "stderr",
          "output_type": "stream",
          "text": [
            "/usr/local/lib/python3.7/dist-packages/sklearn/utils/deprecation.py:87: FutureWarning: Function safe_indexing is deprecated; safe_indexing is deprecated in version 0.22 and will be removed in version 0.24.\n",
            "  warnings.warn(msg, category=FutureWarning)\n"
          ]
        },
        {
          "name": "stdout",
          "output_type": "stream",
          "text": [
            "90.7258064516129\n",
            "\n",
            "              precision    recall  f1-score   support\n",
            "\n",
            "           0       0.90      0.91      0.91       124\n",
            "           1       0.91      0.90      0.91       124\n",
            "\n",
            "    accuracy                           0.91       248\n",
            "   macro avg       0.91      0.91      0.91       248\n",
            "weighted avg       0.91      0.91      0.91       248\n",
            "\n"
          ]
        },
        {
          "data": {
            "text/plain": [
              "<matplotlib.axes._subplots.AxesSubplot at 0x7f62545b5c90>"
            ]
          },
          "execution_count": 31,
          "metadata": {},
          "output_type": "execute_result"
        },
        {
          "data": {
            "image/png": "[encoded data removed]",
            "text/plain": [
              "<Figure size 432x288 with 2 Axes>"
            ]
          },
          "metadata": {
            "needs_background": "light"
          },
          "output_type": "display_data"
        }
      ],
      "source": [
        "oversample = SMOTE(random_state=20)\n",
        "X_train, X_test, y_train, y_test = train_test_split(X, y, stratify=y, test_size = 0.3,  random_state = 42)\n",
        "X_over, y_over = oversample.fit_resample(X_train, y_train)\n",
        "X_train, X_test, y_train, y_test = train_test_split(X_over, y_over, stratify=y_over, test_size = 0.3, random_state = 1)\n",
        "\n",
        "chck = pd.DataFrame()\n",
        "chck['fraud_reported'] = y_train\n",
        "\n",
        "\n",
        "rfc = RandomForestClassifier(random_state = 1)\n",
        "rfc.fit(X_train, y_train)\n",
        "\n",
        "preds = rfc.predict(X_test)\n",
        "\n",
        "score = rfc.score(X_test, y_test)\n",
        "print(score*100)\n",
        "print()\n",
        "print(classification_report(y_test, preds))\n",
        "\n",
        "cm = confusion_matrix(y_test, preds)\n",
        "sns\n",
        "sns.heatmap(cm, annot=True)"
      ]
    },
    {
      "cell_type": "code",
      "execution_count": 32,
      "metadata": {
        "colab": {
          "base_uri": "https://localhost:8080/"
        },
        "id": "efWNeN9A7H9U",
        "outputId": "21a4c5ce-9c85-46f0-90bf-ba9a5dbf28ce"
      },
      "outputs": [
        {
          "name": "stdout",
          "output_type": "stream",
          "text": [
            "{'n_estimators': [100, 164, 228, 292, 357, 421, 485, 550, 614, 678, 742, 807, 871, 935, 1000], 'max_features': ['auto', 'sqrt'], 'max_depth': [5, 8, 11, 14, 17, 20, 23, 26, 30, None], 'min_samples_split': [2, 5, 10, 15], 'min_samples_leaf': [1, 2, 4], 'bootstrap': [True, False]}\n",
            "Fitting 3 folds for each of 100 candidates, totalling 300 fits\n"
          ]
        },
        {
          "name": "stderr",
          "output_type": "stream",
          "text": [
            "[Parallel(n_jobs=-1)]: Using backend LokyBackend with 2 concurrent workers.\n",
            "[Parallel(n_jobs=-1)]: Done  37 tasks      | elapsed:   38.9s\n",
            "[Parallel(n_jobs=-1)]: Done 158 tasks      | elapsed:  2.4min\n",
            "[Parallel(n_jobs=-1)]: Done 300 out of 300 | elapsed:  4.3min finished\n"
          ]
        },
        {
          "data": {
            "text/plain": [
              "RandomizedSearchCV(cv=3, error_score=nan,\n",
              "                   estimator=RandomForestClassifier(bootstrap=True,\n",
              "                                                    ccp_alpha=0.0,\n",
              "                                                    class_weight=None,\n",
              "                                                    criterion='gini',\n",
              "                                                    max_depth=None,\n",
              "                                                    max_features='auto',\n",
              "                                                    max_leaf_nodes=None,\n",
              "                                                    max_samples=None,\n",
              "                                                    min_impurity_decrease=0.0,\n",
              "                                                    min_impurity_split=None,\n",
              "                                                    min_samples_leaf=1,\n",
              "                                                    min_samples_split=2,\n",
              "                                                    min_weight_fraction_leaf=0.0,\n",
              "                                                    n_estimators=100,\n",
              "                                                    n_jobs...\n",
              "                   param_distributions={'bootstrap': [True, False],\n",
              "                                        'max_depth': [5, 8, 11, 14, 17, 20, 23,\n",
              "                                                      26, 30, None],\n",
              "                                        'max_features': ['auto', 'sqrt'],\n",
              "                                        'min_samples_leaf': [1, 2, 4],\n",
              "                                        'min_samples_split': [2, 5, 10, 15],\n",
              "                                        'n_estimators': [100, 164, 228, 292,\n",
              "                                                         357, 421, 485, 550,\n",
              "                                                         614, 678, 742, 807,\n",
              "                                                         871, 935, 1000]},\n",
              "                   pre_dispatch='2*n_jobs', random_state=42, refit=True,\n",
              "                   return_train_score=False, scoring=None, verbose=2)"
            ]
          },
          "execution_count": 32,
          "metadata": {},
          "output_type": "execute_result"
        }
      ],
      "source": [
        "# Number of trees in random forest\n",
        "n_estimators = [int(x) for x in np.linspace(start = 100, stop = 1000, num = 15)]\n",
        "# Number of features to consider at every split\n",
        "max_features = ['auto', 'sqrt']\n",
        "# Maximum number of levels in tree\n",
        "max_depth = [int(x) for x in np.linspace(5, 30, num = 9)]\n",
        "max_depth.append(None)\n",
        "# Minimum number of samples required to split a node\n",
        "min_samples_split = [2, 5, 10, 15]\n",
        "# Minimum number of samples required at each leaf node\n",
        "min_samples_leaf = [1, 2, 4]\n",
        "# Method of selecting samples for training each tree\n",
        "bootstrap = [True, False]\n",
        "# Create the random grid\n",
        "random_grid = {'n_estimators': n_estimators,\n",
        "               'max_features': max_features,\n",
        "               'max_depth': max_depth,\n",
        "               'min_samples_split': min_samples_split,\n",
        "               'min_samples_leaf': min_samples_leaf,\n",
        "               'bootstrap': bootstrap}\n",
        "print(random_grid)\n",
        "\n",
        "# Use the random grid to search for best hyperparameters\n",
        "# First create the base model to tune\n",
        "rf = RandomForestClassifier()\n",
        "# Random search of parameters, using 3 fold cross validation, \n",
        "# search across 100 different combinations, and use all available cores\n",
        "rf_random = RandomizedSearchCV(estimator = rf, param_distributions = random_grid, n_iter = 100, cv = 3, verbose=2, random_state=42, n_jobs = -1)\n",
        "# Fit the random search model\n",
        "rf_random.fit(X_train, y_train)"
      ]
    },
    {
      "cell_type": "code",
      "execution_count": 33,
      "metadata": {
        "colab": {
          "base_uri": "https://localhost:8080/"
        },
        "id": "AnMlV8dq8iHR",
        "outputId": "cf787d60-8927-47a9-8745-dfcb8a37091c"
      },
      "outputs": [
        {
          "data": {
            "text/plain": [
              "{'bootstrap': True,\n",
              " 'max_depth': 26,\n",
              " 'max_features': 'auto',\n",
              " 'min_samples_leaf': 1,\n",
              " 'min_samples_split': 2,\n",
              " 'n_estimators': 807}"
            ]
          },
          "execution_count": 33,
          "metadata": {},
          "output_type": "execute_result"
        }
      ],
      "source": [
        "rf_random.best_params_"
      ]
    },
    {
      "cell_type": "code",
      "execution_count": 39,
      "metadata": {
        "colab": {
          "base_uri": "https://localhost:8080/",
          "height": 469
        },
        "id": "aEMowhwK8n_9",
        "outputId": "062aaa65-5113-41be-9404-0234904b4bc0"
      },
      "outputs": [
        {
          "name": "stdout",
          "output_type": "stream",
          "text": [
            "90.7258064516129\n",
            "\n",
            "              precision    recall  f1-score   support\n",
            "\n",
            "           0       0.91      0.90      0.91       124\n",
            "           1       0.90      0.91      0.91       124\n",
            "\n",
            "    accuracy                           0.91       248\n",
            "   macro avg       0.91      0.91      0.91       248\n",
            "weighted avg       0.91      0.91      0.91       248\n",
            "\n"
          ]
        },
        {
          "data": {
            "text/plain": [
              "<matplotlib.axes._subplots.AxesSubplot at 0x7f6254146810>"
            ]
          },
          "execution_count": 39,
          "metadata": {},
          "output_type": "execute_result"
        },
        {
          "data": {
            "image/png": "[encoded data removed]",
            "text/plain": [
              "<Figure size 432x288 with 2 Axes>"
            ]
          },
          "metadata": {
            "needs_background": "light"
          },
          "output_type": "display_data"
        }
      ],
      "source": [
        "rf2 = RandomForestClassifier(n_estimators=807,min_samples_split=2,min_samples_leaf=1,max_features='auto'\n",
        "                            ,max_depth=26,bootstrap='True')\n",
        "rf2.fit(X_train, y_train)\n",
        "\n",
        "preds = rf2.predict(X_test)\n",
        "\n",
        "score = rf2.score(X_test, y_test)\n",
        "print(score*100)\n",
        "print()\n",
        "print(classification_report(y_test, preds))\n",
        "\n",
        "cm = confusion_matrix(y_test, preds)\n",
        "sns\n",
        "sns.heatmap(cm, annot=True)"
      ]
    },
    {
      "cell_type": "code",
      "execution_count": 40,
      "metadata": {
        "colab": {
          "base_uri": "https://localhost:8080/",
          "height": 469
        },
        "id": "AQTHNY3i8yR0",
        "outputId": "a47227ef-07c8-4142-cf2e-935f417fbfbb"
      },
      "outputs": [
        {
          "name": "stdout",
          "output_type": "stream",
          "text": [
            "49.5\n",
            "\n",
            "              precision    recall  f1-score   support\n",
            "\n",
            "           0       0.94      0.40      0.57       163\n",
            "           1       0.25      0.89      0.40        37\n",
            "\n",
            "    accuracy                           0.49       200\n",
            "   macro avg       0.60      0.65      0.48       200\n",
            "weighted avg       0.82      0.49      0.53       200\n",
            "\n"
          ]
        },
        {
          "data": {
            "text/plain": [
              "<matplotlib.axes._subplots.AxesSubplot at 0x7f62541464d0>"
            ]
          },
          "execution_count": 40,
          "metadata": {},
          "output_type": "execute_result"
        },
        {
          "data": {
            "image/png": "[encoded data removed]",
            "text/plain": [
              "<Figure size 432x288 with 2 Axes>"
            ]
          },
          "metadata": {
            "needs_background": "light"
          },
          "output_type": "display_data"
        }
      ],
      "source": [
        "categorical_cols = ['age_group', 'months_as_customer_groups', 'policy_annual_premium_groups','location_check','policy_deductable_group']\n",
        "for col in categorical_cols:\n",
        "  df1_val[col] = df1_val[col].astype('object')\n",
        "\n",
        "columns_to_encode = []\n",
        "for col in df1_val.columns:\n",
        "  if df1_val[col].dtype == 'object':\n",
        "    columns_to_encode.append(col)\n",
        "\n",
        "df1_val_ohe = pd.DataFrame(enc_fit.transform(df1_val[columns_to_encode]).toarray(), columns=clmn_dummy)\n",
        "columns_num = columns_dummy[:11]\n",
        "df1_val_numerical = pd.DataFrame(df1_val, columns=columns_num)\n",
        "df1_val_numerical.reset_index(drop=True, inplace=True)\n",
        "df1_val_ohe = pd.concat([df1_val_numerical, df1_val_ohe], axis=1)\n",
        "\n",
        "target = 'fraud_reported'\n",
        "\n",
        "X_val = df1_val_ohe.drop(columns=target, axis=1)\n",
        "y_val = df1_val_ohe[target]\n",
        "\n",
        "X_val = sc.fit_transform(X_val)\n",
        "\n",
        "preds = rf2.predict(X_val)\n",
        "score = rf2.score(X_val, y_val)\n",
        "print(score*100)\n",
        "print()\n",
        "print(classification_report(y_val, preds))\n",
        "\n",
        "cm = confusion_matrix(y_val, preds)\n",
        "sns\n",
        "sns.heatmap(cm, annot=True)"
      ]
    },
    {
      "cell_type": "code",
      "execution_count": 48,
      "metadata": {
        "colab": {
          "base_uri": "https://localhost:8080/",
          "height": 469
        },
        "id": "66rX53fi9M-y",
        "outputId": "7d97dd49-b4a5-4435-a396-0384d9bb097c"
      },
      "outputs": [
        {
          "name": "stdout",
          "output_type": "stream",
          "text": [
            "27.500000000000004\n",
            "\n",
            "              precision    recall  f1-score   support\n",
            "\n",
            "           0       0.94      0.72      0.82       163\n",
            "           1       0.40      0.81      0.54        37\n",
            "\n",
            "    accuracy                           0.74       200\n",
            "   macro avg       0.67      0.77      0.68       200\n",
            "weighted avg       0.84      0.74      0.77       200\n",
            "\n"
          ]
        },
        {
          "data": {
            "text/plain": [
              "<matplotlib.axes._subplots.AxesSubplot at 0x7f6253fe71d0>"
            ]
          },
          "execution_count": 48,
          "metadata": {},
          "output_type": "execute_result"
        },
        {
          "data": {
            "image/png": "[encoded data removed]",
            "text/plain": [
              "<Figure size 432x288 with 2 Axes>"
            ]
          },
          "metadata": {
            "needs_background": "light"
          },
          "output_type": "display_data"
        }
      ],
      "source": [
        "preds = (rf2.predict_proba(X_val)[:,1] >= 0.62).astype(int)\n",
        "score = rf2.score(X_val, y_val)\n",
        "print(score*100)\n",
        "print()\n",
        "print(classification_report(y_val, preds))\n",
        "\n",
        "cm = confusion_matrix(y_val, preds)\n",
        "sns\n",
        "sns.heatmap(cm, annot=True)"
      ]
    },
    {
      "cell_type": "markdown",
      "metadata": {
        "id": "4BCCbd8YUc_j"
      },
      "source": [
        "<br>\n",
        "Train/test split metoduna eklediğimiz stratify parametresinin ve smote işleminde gerçekleştirilen randome state sayısının değiştirilmesi sonucunda elde ettiğimiz skor yukarıda yer almaktadır. Bu skor bir önceki ile birebir aynıdır, bu da demek oluyor ki bu işlemler de ekstradan bir fayda sağlamadı. Fakat skorlarımız genel olarak daha iyi durumdalar.\n",
        "Peki tüm bu işlemlerden çıkarılacak olan sonuç nedir? Modelin gerçek hayatta göstermiş olduğu performans neye bağlıdır? Aslında tüm bunların cevabını bir nebze bu çalışmada vermiş olduk. Öncelikle önemli olan ilk şey, validation setinin (bazı kaynaklarda test olarak geçer), modelin görmediği veri, ilk başta herhangi bir işleme uğramadan tüm eğitim sonuna kadar saklanması gerekmektedir. Daha sonrasında eğitecek olduğumuz veri setini rastgeleden ziyade daha dengeli parçalamılıyız, böylelikle tek bir değer üzerine yoğunlaşmanın önüne geçmiş oluruz. Encoding yöntemlerini ilgili kolonların türüne ve anlamlarına göre uygulamalıyız ve burdaki en önemli nokta, saklamış olduğumuz validation setinde olmayan ya da orda olup eğitim setinde olmayan verileri dikkate alarak encoding işlemi gerçekleştirmeliyiz. Aksi takdirde validation ile tahminlemede hiç görmediği bir veri ile karşılaşabilir ve modelin kafasını karıştırabiliriz. Bunlar dışında hyperparameter değerlerinin önemi de fazladır. Tabii en önemli noktalardan birisi de hangi yöntemi kullanacağımız. RFC mi SVM mi vb. bir çok sınıflandırma algoritması bulunmaktadır. Bunları modelimiz üzerinde test ederek karşılaştırabilir ve hangisin daha uygun olduğunu belirleyebiliriz. Bu çalışmada algoritma denemekten ziyade diğer parametreler üzerinde iyileştirmeler yapılması amaçlanmıştır.\n",
        "\n"
      ]
    }
  ],
  "metadata": {
    "colab": {
      "collapsed_sections": [],
      "name": "Q6.ipynb",
      "provenance": []
    },
    "interpreter": {
      "hash": "b3ba2566441a7c06988d0923437866b63cedc61552a5af99d1f4fb67d367b25f"
    },
    "kernelspec": {
      "display_name": "Python 3.7.6 64-bit ('base': conda)",
      "name": "python3"
    },
    "language_info": {
      "name": "python",
      "version": "3.7.6"
    }
  },
  "nbformat": 4,
  "nbformat_minor": 0
}
